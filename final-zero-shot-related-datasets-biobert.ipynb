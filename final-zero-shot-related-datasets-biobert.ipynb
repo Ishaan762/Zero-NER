{
 "cells": [
  {
   "cell_type": "raw",
   "id": "222e5da1",
   "metadata": {
    "execution": {
     "iopub.execute_input": "2024-04-15T04:46:17.868381Z",
     "iopub.status.busy": "2024-04-15T04:46:17.868038Z",
     "iopub.status.idle": "2024-04-15T04:46:43.955469Z",
     "shell.execute_reply": "2024-04-15T04:46:43.954494Z",
     "shell.execute_reply.started": "2024-04-15T04:46:17.868354Z"
    },
    "id": "NcDkY2StDqdE",
    "outputId": "7a599cee-18bf-4937-fa79-d0c686d9420a",
    "papermill": {
     "duration": 0.016607,
     "end_time": "2024-04-27T17:42:38.791527",
     "exception": false,
     "start_time": "2024-04-27T17:42:38.774920",
     "status": "completed"
    },
    "tags": []
   },
   "source": []
  },
  {
   "cell_type": "code",
   "execution_count": 1,
   "id": "6341d592",
   "metadata": {
    "execution": {
     "iopub.execute_input": "2024-04-27T17:42:38.825366Z",
     "iopub.status.busy": "2024-04-27T17:42:38.824662Z",
     "iopub.status.idle": "2024-04-27T17:43:03.986473Z",
     "shell.execute_reply": "2024-04-27T17:43:03.985288Z"
    },
    "id": "_lk3Ai8aGUFw",
    "outputId": "a4fa4937-821d-44bf-c13e-3495df117f5c",
    "papermill": {
     "duration": 25.181418,
     "end_time": "2024-04-27T17:43:03.988976",
     "exception": false,
     "start_time": "2024-04-27T17:42:38.807558",
     "status": "completed"
    },
    "tags": []
   },
   "outputs": [
    {
     "name": "stdout",
     "output_type": "stream",
     "text": [
      "Collecting pandas==1.5.3\r\n",
      "  Downloading pandas-1.5.3-cp310-cp310-manylinux_2_17_x86_64.manylinux2014_x86_64.whl.metadata (11 kB)\r\n",
      "Requirement already satisfied: python-dateutil>=2.8.1 in /opt/conda/lib/python3.10/site-packages (from pandas==1.5.3) (2.9.0.post0)\r\n",
      "Requirement already satisfied: pytz>=2020.1 in /opt/conda/lib/python3.10/site-packages (from pandas==1.5.3) (2023.3.post1)\r\n",
      "Requirement already satisfied: numpy>=1.21.0 in /opt/conda/lib/python3.10/site-packages (from pandas==1.5.3) (1.26.4)\r\n",
      "Requirement already satisfied: six>=1.5 in /opt/conda/lib/python3.10/site-packages (from python-dateutil>=2.8.1->pandas==1.5.3) (1.16.0)\r\n",
      "Downloading pandas-1.5.3-cp310-cp310-manylinux_2_17_x86_64.manylinux2014_x86_64.whl (12.1 MB)\r\n",
      "\u001b[2K   \u001b[90m━━━━━━━━━━━━━━━━━━━━━━━━━━━━━━━━━━━━━━━━\u001b[0m \u001b[32m12.1/12.1 MB\u001b[0m \u001b[31m85.6 MB/s\u001b[0m eta \u001b[36m0:00:00\u001b[0m\r\n",
      "\u001b[?25hInstalling collected packages: pandas\r\n",
      "  Attempting uninstall: pandas\r\n",
      "    Found existing installation: pandas 2.1.4\r\n",
      "    Uninstalling pandas-2.1.4:\r\n",
      "      Successfully uninstalled pandas-2.1.4\r\n",
      "\u001b[31mERROR: pip's dependency resolver does not currently take into account all the packages that are installed. This behaviour is the source of the following dependency conflicts.\r\n",
      "cudf 23.8.0 requires cubinlinker, which is not installed.\r\n",
      "cudf 23.8.0 requires cupy-cuda11x>=12.0.0, which is not installed.\r\n",
      "cudf 23.8.0 requires ptxcompiler, which is not installed.\r\n",
      "cuml 23.8.0 requires cupy-cuda11x>=12.0.0, which is not installed.\r\n",
      "dask-cudf 23.8.0 requires cupy-cuda11x>=12.0.0, which is not installed.\r\n",
      "tensorflow-decision-forests 1.8.1 requires wurlitzer, which is not installed.\r\n",
      "beatrix-jupyterlab 2023.128.151533 requires jupyterlab~=3.6.0, but you have jupyterlab 4.1.5 which is incompatible.\r\n",
      "cudf 23.8.0 requires cuda-python<12.0a0,>=11.7.1, but you have cuda-python 12.4.0 which is incompatible.\r\n",
      "cudf 23.8.0 requires protobuf<5,>=4.21, but you have protobuf 3.20.3 which is incompatible.\r\n",
      "cudf 23.8.0 requires pyarrow==11.*, but you have pyarrow 15.0.2 which is incompatible.\r\n",
      "cuml 23.8.0 requires dask==2023.7.1, but you have dask 2024.4.0 which is incompatible.\r\n",
      "dask-cuda 23.8.0 requires dask==2023.7.1, but you have dask 2024.4.0 which is incompatible.\r\n",
      "dask-cudf 23.8.0 requires dask==2023.7.1, but you have dask 2024.4.0 which is incompatible.\r\n",
      "dask-expr 1.0.9 requires pandas>=2, but you have pandas 1.5.3 which is incompatible.\r\n",
      "featuretools 1.30.0 requires pandas>=2.0.0, but you have pandas 1.5.3 which is incompatible.\r\n",
      "libpysal 4.9.2 requires packaging>=22, but you have packaging 21.3 which is incompatible.\r\n",
      "libpysal 4.9.2 requires shapely>=2.0.1, but you have shapely 1.8.5.post1 which is incompatible.\r\n",
      "mizani 0.11.1 requires pandas>=2.1.0, but you have pandas 1.5.3 which is incompatible.\r\n",
      "momepy 0.7.0 requires shapely>=2, but you have shapely 1.8.5.post1 which is incompatible.\r\n",
      "osmnx 1.9.2 requires shapely>=2.0, but you have shapely 1.8.5.post1 which is incompatible.\r\n",
      "plotnine 0.13.4 requires pandas<3.0.0,>=2.1.0, but you have pandas 1.5.3 which is incompatible.\r\n",
      "pyldavis 3.4.1 requires pandas>=2.0.0, but you have pandas 1.5.3 which is incompatible.\r\n",
      "raft-dask 23.8.0 requires dask==2023.7.1, but you have dask 2024.4.0 which is incompatible.\r\n",
      "spopt 0.6.0 requires shapely>=2.0.1, but you have shapely 1.8.5.post1 which is incompatible.\r\n",
      "xarray 2024.3.0 requires packaging>=22, but you have packaging 21.3 which is incompatible.\r\n",
      "ydata-profiling 4.6.4 requires numpy<1.26,>=1.16.0, but you have numpy 1.26.4 which is incompatible.\u001b[0m\u001b[31m\r\n",
      "\u001b[0mSuccessfully installed pandas-1.5.3\r\n"
     ]
    }
   ],
   "source": [
    "!pip install pandas==1.5.3"
   ]
  },
  {
   "cell_type": "code",
   "execution_count": 2,
   "id": "7d43ae79",
   "metadata": {
    "execution": {
     "iopub.execute_input": "2024-04-27T17:43:04.026001Z",
     "iopub.status.busy": "2024-04-27T17:43:04.025668Z",
     "iopub.status.idle": "2024-04-27T17:43:04.030042Z",
     "shell.execute_reply": "2024-04-27T17:43:04.029247Z"
    },
    "id": "pMQj7wwaEh5z",
    "papermill": {
     "duration": 0.024667,
     "end_time": "2024-04-27T17:43:04.031939",
     "exception": false,
     "start_time": "2024-04-27T17:43:04.007272",
     "status": "completed"
    },
    "tags": []
   },
   "outputs": [],
   "source": [
    "import warnings\n",
    "warnings.filterwarnings('ignore')"
   ]
  },
  {
   "cell_type": "code",
   "execution_count": 3,
   "id": "423a661b",
   "metadata": {
    "execution": {
     "iopub.execute_input": "2024-04-27T17:43:04.066962Z",
     "iopub.status.busy": "2024-04-27T17:43:04.066674Z",
     "iopub.status.idle": "2024-04-27T17:43:04.481656Z",
     "shell.execute_reply": "2024-04-27T17:43:04.480900Z"
    },
    "id": "WHzge3fgE0NF",
    "papermill": {
     "duration": 0.434862,
     "end_time": "2024-04-27T17:43:04.483895",
     "exception": false,
     "start_time": "2024-04-27T17:43:04.049033",
     "status": "completed"
    },
    "tags": []
   },
   "outputs": [],
   "source": [
    "import pandas as pd\n",
    "import numpy as np\n",
    "import pickle"
   ]
  },
  {
   "cell_type": "code",
   "execution_count": 4,
   "id": "24d1330a",
   "metadata": {
    "execution": {
     "iopub.execute_input": "2024-04-27T17:43:04.519211Z",
     "iopub.status.busy": "2024-04-27T17:43:04.518838Z",
     "iopub.status.idle": "2024-04-27T17:43:05.188372Z",
     "shell.execute_reply": "2024-04-27T17:43:05.187598Z"
    },
    "id": "yg91S1-VDs-8",
    "papermill": {
     "duration": 0.689449,
     "end_time": "2024-04-27T17:43:05.190599",
     "exception": false,
     "start_time": "2024-04-27T17:43:04.501150",
     "status": "completed"
    },
    "tags": []
   },
   "outputs": [],
   "source": [
    "df = pd.DataFrame()\n",
    "with open('/kaggle/input/zero-shot-ner-datasets/Zero-ShotNER/datasets/CDR/CDR_protokol4.pkl', 'rb') as f:\n",
    "    df = df.append(pickle.load(f))\n",
    "with open('/kaggle/input/zero-shot-ner-datasets/Zero-ShotNER/datasets/NCBI/NCBI_protokol4.pkl', 'rb') as f:\n",
    "    df = df.append(pickle.load(f))\n",
    "df = df.reset_index(drop = True)"
   ]
  },
  {
   "cell_type": "code",
   "execution_count": 5,
   "id": "b7002f0b",
   "metadata": {
    "execution": {
     "iopub.execute_input": "2024-04-27T17:43:05.226473Z",
     "iopub.status.busy": "2024-04-27T17:43:05.226157Z",
     "iopub.status.idle": "2024-04-27T17:43:05.255980Z",
     "shell.execute_reply": "2024-04-27T17:43:05.255063Z"
    },
    "id": "27lO1r2ZE95s",
    "outputId": "0d593dcd-0c4b-40ca-eefd-f1cc29a43e6a",
    "papermill": {
     "duration": 0.050061,
     "end_time": "2024-04-27T17:43:05.257851",
     "exception": false,
     "start_time": "2024-04-27T17:43:05.207790",
     "status": "completed"
    },
    "tags": []
   },
   "outputs": [
    {
     "data": {
      "text/html": [
       "<div>\n",
       "<style scoped>\n",
       "    .dataframe tbody tr th:only-of-type {\n",
       "        vertical-align: middle;\n",
       "    }\n",
       "\n",
       "    .dataframe tbody tr th {\n",
       "        vertical-align: top;\n",
       "    }\n",
       "\n",
       "    .dataframe thead th {\n",
       "        text-align: right;\n",
       "    }\n",
       "</style>\n",
       "<table border=\"1\" class=\"dataframe\">\n",
       "  <thead>\n",
       "    <tr style=\"text-align: right;\">\n",
       "      <th></th>\n",
       "      <th>ids</th>\n",
       "      <th>cor</th>\n",
       "      <th>class</th>\n",
       "      <th>text</th>\n",
       "      <th>labels</th>\n",
       "    </tr>\n",
       "  </thead>\n",
       "  <tbody>\n",
       "    <tr>\n",
       "      <th>0</th>\n",
       "      <td>227508</td>\n",
       "      <td>CDR</td>\n",
       "      <td>[Chemical]</td>\n",
       "      <td>[Naloxone, reverses, the, antihypertensive, ef...</td>\n",
       "      <td>[1, 0, 0, 0, 0, 0, 1, 0]</td>\n",
       "    </tr>\n",
       "    <tr>\n",
       "      <th>1</th>\n",
       "      <td>227508</td>\n",
       "      <td>CDR</td>\n",
       "      <td>[Chemical]</td>\n",
       "      <td>[In, unanesthetized, ,, spontaneously, hyperte...</td>\n",
       "      <td>[0, 0, 0, 0, 0, 0, 0, 0, 0, 0, 0, 0, 0, 0, 0, ...</td>\n",
       "    </tr>\n",
       "    <tr>\n",
       "      <th>2</th>\n",
       "      <td>227508</td>\n",
       "      <td>CDR</td>\n",
       "      <td>[Chemical]</td>\n",
       "      <td>[2, to, 2, mg, /, kg, .]</td>\n",
       "      <td>[0, 0, 0, 0, 0, 0, 0]</td>\n",
       "    </tr>\n",
       "    <tr>\n",
       "      <th>3</th>\n",
       "      <td>227508</td>\n",
       "      <td>CDR</td>\n",
       "      <td>[Chemical]</td>\n",
       "      <td>[The, hypotensive, effect, of, 100, mg, /, kg,...</td>\n",
       "      <td>[0, 0, 0, 0, 0, 0, 0, 0, 1, 1, 1, 0, 0, 0, 0, ...</td>\n",
       "    </tr>\n",
       "    <tr>\n",
       "      <th>4</th>\n",
       "      <td>227508</td>\n",
       "      <td>CDR</td>\n",
       "      <td>[Chemical]</td>\n",
       "      <td>[Naloxone, alone, did, not, affect, either, bl...</td>\n",
       "      <td>[1, 0, 0, 0, 0, 0, 0, 0, 0, 0, 0, 0]</td>\n",
       "    </tr>\n",
       "    <tr>\n",
       "      <th>...</th>\n",
       "      <td>...</td>\n",
       "      <td>...</td>\n",
       "      <td>...</td>\n",
       "      <td>...</td>\n",
       "      <td>...</td>\n",
       "    </tr>\n",
       "    <tr>\n",
       "      <th>51674</th>\n",
       "      <td>9949197</td>\n",
       "      <td>NCBI</td>\n",
       "      <td>[Specific, Disease]</td>\n",
       "      <td>[Although, emerin, was, abundant, in, the, mem...</td>\n",
       "      <td>[0, 0, 0, 0, 0, 0, 0, 0, 0, 0, 0, 0, 0, 0, 0, ...</td>\n",
       "    </tr>\n",
       "    <tr>\n",
       "      <th>51675</th>\n",
       "      <td>9949197</td>\n",
       "      <td>NCBI</td>\n",
       "      <td>[Specific, Disease]</td>\n",
       "      <td>[This, distribution, of, emerin, was, similar,...</td>\n",
       "      <td>[0, 0, 0, 0, 0, 0, 0, 0, 0, 0, 0, 0, 0, 0, 0, ...</td>\n",
       "    </tr>\n",
       "    <tr>\n",
       "      <th>51676</th>\n",
       "      <td>9949197</td>\n",
       "      <td>NCBI</td>\n",
       "      <td>[Specific, Disease]</td>\n",
       "      <td>[In, contrast, ,, lamin, B1, was, absent, from...</td>\n",
       "      <td>[0, 0, 0, 0, 0, 0, 0, 0, 0, 0, 0, 0, 0, 0, 0, ...</td>\n",
       "    </tr>\n",
       "    <tr>\n",
       "      <th>51677</th>\n",
       "      <td>9949197</td>\n",
       "      <td>NCBI</td>\n",
       "      <td>[Specific, Disease]</td>\n",
       "      <td>[Lamin, B1, is, also, almost, completely, abse...</td>\n",
       "      <td>[0, 0, 0, 0, 0, 0, 0, 0, 0, 0, 0, 0]</td>\n",
       "    </tr>\n",
       "    <tr>\n",
       "      <th>51678</th>\n",
       "      <td>9949197</td>\n",
       "      <td>NCBI</td>\n",
       "      <td>[Specific, Disease]</td>\n",
       "      <td>[In, EDMD, ,, the, additional, absence, of, la...</td>\n",
       "      <td>[0, 1, 0, 0, 0, 0, 0, 0, 0, 0, 0, 0, 0, 0, 0, ...</td>\n",
       "    </tr>\n",
       "  </tbody>\n",
       "</table>\n",
       "<p>51679 rows × 5 columns</p>\n",
       "</div>"
      ],
      "text/plain": [
       "           ids   cor                class  \\\n",
       "0       227508   CDR           [Chemical]   \n",
       "1       227508   CDR           [Chemical]   \n",
       "2       227508   CDR           [Chemical]   \n",
       "3       227508   CDR           [Chemical]   \n",
       "4       227508   CDR           [Chemical]   \n",
       "...        ...   ...                  ...   \n",
       "51674  9949197  NCBI  [Specific, Disease]   \n",
       "51675  9949197  NCBI  [Specific, Disease]   \n",
       "51676  9949197  NCBI  [Specific, Disease]   \n",
       "51677  9949197  NCBI  [Specific, Disease]   \n",
       "51678  9949197  NCBI  [Specific, Disease]   \n",
       "\n",
       "                                                    text  \\\n",
       "0      [Naloxone, reverses, the, antihypertensive, ef...   \n",
       "1      [In, unanesthetized, ,, spontaneously, hyperte...   \n",
       "2                               [2, to, 2, mg, /, kg, .]   \n",
       "3      [The, hypotensive, effect, of, 100, mg, /, kg,...   \n",
       "4      [Naloxone, alone, did, not, affect, either, bl...   \n",
       "...                                                  ...   \n",
       "51674  [Although, emerin, was, abundant, in, the, mem...   \n",
       "51675  [This, distribution, of, emerin, was, similar,...   \n",
       "51676  [In, contrast, ,, lamin, B1, was, absent, from...   \n",
       "51677  [Lamin, B1, is, also, almost, completely, abse...   \n",
       "51678  [In, EDMD, ,, the, additional, absence, of, la...   \n",
       "\n",
       "                                                  labels  \n",
       "0                               [1, 0, 0, 0, 0, 0, 1, 0]  \n",
       "1      [0, 0, 0, 0, 0, 0, 0, 0, 0, 0, 0, 0, 0, 0, 0, ...  \n",
       "2                                  [0, 0, 0, 0, 0, 0, 0]  \n",
       "3      [0, 0, 0, 0, 0, 0, 0, 0, 1, 1, 1, 0, 0, 0, 0, ...  \n",
       "4                   [1, 0, 0, 0, 0, 0, 0, 0, 0, 0, 0, 0]  \n",
       "...                                                  ...  \n",
       "51674  [0, 0, 0, 0, 0, 0, 0, 0, 0, 0, 0, 0, 0, 0, 0, ...  \n",
       "51675  [0, 0, 0, 0, 0, 0, 0, 0, 0, 0, 0, 0, 0, 0, 0, ...  \n",
       "51676  [0, 0, 0, 0, 0, 0, 0, 0, 0, 0, 0, 0, 0, 0, 0, ...  \n",
       "51677               [0, 0, 0, 0, 0, 0, 0, 0, 0, 0, 0, 0]  \n",
       "51678  [0, 1, 0, 0, 0, 0, 0, 0, 0, 0, 0, 0, 0, 0, 0, ...  \n",
       "\n",
       "[51679 rows x 5 columns]"
      ]
     },
     "execution_count": 5,
     "metadata": {},
     "output_type": "execute_result"
    }
   ],
   "source": [
    "df"
   ]
  },
  {
   "cell_type": "code",
   "execution_count": 6,
   "id": "bafc8dcc",
   "metadata": {
    "execution": {
     "iopub.execute_input": "2024-04-27T17:43:05.293717Z",
     "iopub.status.busy": "2024-04-27T17:43:05.293455Z",
     "iopub.status.idle": "2024-04-27T17:43:05.745789Z",
     "shell.execute_reply": "2024-04-27T17:43:05.745023Z"
    },
    "id": "lkHVyeShFMe5",
    "papermill": {
     "duration": 0.472681,
     "end_time": "2024-04-27T17:43:05.748141",
     "exception": false,
     "start_time": "2024-04-27T17:43:05.275460",
     "status": "completed"
    },
    "tags": []
   },
   "outputs": [],
   "source": [
    "df['labels_sum'] = df.labels.apply(lambda lst: sum(lst))\n",
    "df['klasa'] = df[\"class\"].apply(lambda lst: ' '.join(lst))\n",
    "df_hasones = df[df.labels_sum!=0]\n",
    "df_onlyzeros = df[df.labels_sum==0]"
   ]
  },
  {
   "cell_type": "code",
   "execution_count": 7,
   "id": "f778e62c",
   "metadata": {
    "execution": {
     "iopub.execute_input": "2024-04-27T17:43:05.784018Z",
     "iopub.status.busy": "2024-04-27T17:43:05.783745Z",
     "iopub.status.idle": "2024-04-27T17:43:05.925166Z",
     "shell.execute_reply": "2024-04-27T17:43:05.924113Z"
    },
    "id": "skNMyPY2E_1k",
    "outputId": "ef689aaf-9ab4-4252-db9d-a15eca1deb8b",
    "papermill": {
     "duration": 0.161626,
     "end_time": "2024-04-27T17:43:05.927244",
     "exception": false,
     "start_time": "2024-04-27T17:43:05.765618",
     "status": "completed"
    },
    "tags": []
   },
   "outputs": [
    {
     "name": "stdout",
     "output_type": "stream",
     "text": [
      "True\n",
      "True\n",
      "True\n",
      "0.10044699007333734\n",
      "0.049555912459606416\n",
      "0.8499970974670562\n"
     ]
    }
   ],
   "source": [
    "df_hasones_train = pd.DataFrame()\n",
    "for i in df_hasones.klasa.unique():\n",
    "    df_hasones_train = df_hasones_train.append(df_hasones[df_hasones.klasa == i].sample(frac = 0.85))\n",
    "\n",
    "df_onlyzeros_train = pd.DataFrame()\n",
    "for i in df_onlyzeros.klasa.unique():\n",
    "    df_onlyzeros_train = df_onlyzeros_train.append(df_onlyzeros[df_onlyzeros.klasa == i].sample(frac = 0.85))\n",
    "df_hasones_rest = df_hasones.drop(df_hasones_train.index)\n",
    "df_onlyzeros_rest = df_onlyzeros.drop(df_onlyzeros_train.index)\n",
    "df_hasones_valid = pd.DataFrame()\n",
    "for i in df_hasones_rest.klasa.unique():\n",
    "    df_hasones_valid = df_hasones_valid.append(df_hasones_rest[df_hasones_rest.klasa == i].sample(frac = 0.33))\n",
    "\n",
    "df_onlyzeros_valid = pd.DataFrame()\n",
    "for i in df_onlyzeros_rest.klasa.unique():\n",
    "    df_onlyzeros_valid = df_onlyzeros_valid.append(df_onlyzeros_rest[df_onlyzeros_rest.klasa == i].sample(frac = 0.33))\n",
    "df_hasones_test = df_hasones_rest.drop(df_hasones_valid.index)\n",
    "df_onlyzeros_test = df_onlyzeros_rest.drop(df_onlyzeros_valid.index)\n",
    "df_train = pd.concat([df_hasones_train, df_onlyzeros_train])\n",
    "df_valid = pd.concat([df_hasones_valid, df_onlyzeros_valid])\n",
    "df_test = pd.concat([df_hasones_test, df_onlyzeros_test])\n",
    "print(df_onlyzeros_test.shape[0] + df_onlyzeros_valid.shape[0] + df_onlyzeros_train.shape[0] == df_onlyzeros.shape[0])\n",
    "print(df_hasones_test.shape[0] + df_hasones_valid.shape[0] + df_hasones_train.shape[0] == df_hasones.shape[0])\n",
    "print(df_test.shape[0] + df_valid.shape[0] + df_train.shape[0] == df.shape[0])\n",
    "print(df_test.shape[0] / df.shape[0])\n",
    "print(df_valid.shape[0] / df.shape[0])\n",
    "print(df_train.shape[0] / df.shape[0])"
   ]
  },
  {
   "cell_type": "code",
   "execution_count": 8,
   "id": "6f6cd8c5",
   "metadata": {
    "execution": {
     "iopub.execute_input": "2024-04-27T17:43:05.962823Z",
     "iopub.status.busy": "2024-04-27T17:43:05.962561Z",
     "iopub.status.idle": "2024-04-27T17:43:05.985888Z",
     "shell.execute_reply": "2024-04-27T17:43:05.985212Z"
    },
    "id": "cIESxLMBFNaS",
    "papermill": {
     "duration": 0.043179,
     "end_time": "2024-04-27T17:43:05.987872",
     "exception": false,
     "start_time": "2024-04-27T17:43:05.944693",
     "status": "completed"
    },
    "tags": []
   },
   "outputs": [],
   "source": [
    "df_train.drop(['labels_sum'], inplace=True, axis=1)\n",
    "df_train = df_train.reset_index(drop = True)"
   ]
  },
  {
   "cell_type": "code",
   "execution_count": 9,
   "id": "45356fe7",
   "metadata": {
    "execution": {
     "iopub.execute_input": "2024-04-27T17:43:06.023049Z",
     "iopub.status.busy": "2024-04-27T17:43:06.022794Z",
     "iopub.status.idle": "2024-04-27T17:43:06.029076Z",
     "shell.execute_reply": "2024-04-27T17:43:06.028432Z"
    },
    "id": "vsJSfy9kFUsf",
    "papermill": {
     "duration": 0.025849,
     "end_time": "2024-04-27T17:43:06.030825",
     "exception": false,
     "start_time": "2024-04-27T17:43:06.004976",
     "status": "completed"
    },
    "tags": []
   },
   "outputs": [],
   "source": [
    "df_valid.drop(['labels_sum'], inplace=True, axis=1)\n",
    "df_valid = df_valid.reset_index(drop = True)"
   ]
  },
  {
   "cell_type": "code",
   "execution_count": 10,
   "id": "5355d645",
   "metadata": {
    "execution": {
     "iopub.execute_input": "2024-04-27T17:43:06.066140Z",
     "iopub.status.busy": "2024-04-27T17:43:06.065885Z",
     "iopub.status.idle": "2024-04-27T17:43:06.072828Z",
     "shell.execute_reply": "2024-04-27T17:43:06.072126Z"
    },
    "id": "SzenI1OAFVZ-",
    "papermill": {
     "duration": 0.026788,
     "end_time": "2024-04-27T17:43:06.074658",
     "exception": false,
     "start_time": "2024-04-27T17:43:06.047870",
     "status": "completed"
    },
    "tags": []
   },
   "outputs": [],
   "source": [
    "df_test.drop(['labels_sum'], inplace=True, axis=1)\n",
    "df_test = df_test.reset_index(drop = True)"
   ]
  },
  {
   "cell_type": "code",
   "execution_count": 11,
   "id": "bae5daf3",
   "metadata": {
    "execution": {
     "iopub.execute_input": "2024-04-27T17:43:06.109924Z",
     "iopub.status.busy": "2024-04-27T17:43:06.109693Z",
     "iopub.status.idle": "2024-04-27T17:43:06.114904Z",
     "shell.execute_reply": "2024-04-27T17:43:06.114020Z"
    },
    "id": "WCqeZYNwFtS3",
    "papermill": {
     "duration": 0.024996,
     "end_time": "2024-04-27T17:43:06.116740",
     "exception": false,
     "start_time": "2024-04-27T17:43:06.091744",
     "status": "completed"
    },
    "tags": []
   },
   "outputs": [
    {
     "name": "stdout",
     "output_type": "stream",
     "text": [
      "Folder 'Datasets' created successfully.\n"
     ]
    }
   ],
   "source": [
    "import os\n",
    "folder_path = \"/kaggle/working/Datasets\"\n",
    "\n",
    "if not os.path.exists(folder_path):\n",
    "    os.makedirs(folder_path)\n",
    "    print(\"Folder 'Datasets' created successfully.\")\n",
    "else:\n",
    "    print(\"Folder 'Datasets' already exists.\")"
   ]
  },
  {
   "cell_type": "code",
   "execution_count": 12,
   "id": "e55aa666",
   "metadata": {
    "execution": {
     "iopub.execute_input": "2024-04-27T17:43:06.152632Z",
     "iopub.status.busy": "2024-04-27T17:43:06.152349Z",
     "iopub.status.idle": "2024-04-27T17:43:06.155996Z",
     "shell.execute_reply": "2024-04-27T17:43:06.155199Z"
    },
    "id": "hI3XOylAFyqL",
    "papermill": {
     "duration": 0.023718,
     "end_time": "2024-04-27T17:43:06.157924",
     "exception": false,
     "start_time": "2024-04-27T17:43:06.134206",
     "status": "completed"
    },
    "tags": []
   },
   "outputs": [],
   "source": [
    "del df"
   ]
  },
  {
   "cell_type": "code",
   "execution_count": 13,
   "id": "c97a9d7c",
   "metadata": {
    "execution": {
     "iopub.execute_input": "2024-04-27T17:43:06.193672Z",
     "iopub.status.busy": "2024-04-27T17:43:06.193435Z",
     "iopub.status.idle": "2024-04-27T17:43:06.289204Z",
     "shell.execute_reply": "2024-04-27T17:43:06.288389Z"
    },
    "id": "tBEo7KYEF4d3",
    "outputId": "d19cddfc-0fff-4fbb-8dff-c2c2abb6dec3",
    "papermill": {
     "duration": 0.11594,
     "end_time": "2024-04-27T17:43:06.291185",
     "exception": false,
     "start_time": "2024-04-27T17:43:06.175245",
     "status": "completed"
    },
    "tags": []
   },
   "outputs": [
    {
     "data": {
      "text/plain": [
       "0"
      ]
     },
     "execution_count": 13,
     "metadata": {},
     "output_type": "execute_result"
    }
   ],
   "source": [
    "import gc\n",
    "gc.collect()"
   ]
  },
  {
   "cell_type": "code",
   "execution_count": 14,
   "id": "4f7ccd51",
   "metadata": {
    "execution": {
     "iopub.execute_input": "2024-04-27T17:43:06.327241Z",
     "iopub.status.busy": "2024-04-27T17:43:06.326957Z",
     "iopub.status.idle": "2024-04-27T17:43:12.020009Z",
     "shell.execute_reply": "2024-04-27T17:43:12.019005Z"
    },
    "id": "TkI_0QyAGEEW",
    "papermill": {
     "duration": 5.71358,
     "end_time": "2024-04-27T17:43:12.022341",
     "exception": false,
     "start_time": "2024-04-27T17:43:06.308761",
     "status": "completed"
    },
    "tags": []
   },
   "outputs": [],
   "source": [
    "import pandas as pd\n",
    "import pickle\n",
    "import numpy as np\n",
    "\n",
    "import os\n",
    "\n",
    "import torch\n",
    "from torch.utils.data import Subset\n",
    "\n",
    "import transformers\n",
    "from transformers import AutoTokenizer"
   ]
  },
  {
   "cell_type": "code",
   "execution_count": 15,
   "id": "a0f42104",
   "metadata": {
    "execution": {
     "iopub.execute_input": "2024-04-27T17:43:12.060124Z",
     "iopub.status.busy": "2024-04-27T17:43:12.058942Z",
     "iopub.status.idle": "2024-04-27T17:43:13.889735Z",
     "shell.execute_reply": "2024-04-27T17:43:13.888859Z"
    },
    "id": "QLL4fjiPHgaT",
    "papermill": {
     "duration": 1.851937,
     "end_time": "2024-04-27T17:43:13.892123",
     "exception": false,
     "start_time": "2024-04-27T17:43:12.040186",
     "status": "completed"
    },
    "tags": []
   },
   "outputs": [
    {
     "data": {
      "application/vnd.jupyter.widget-view+json": {
       "model_id": "264eaa14466341baa68684b330ab932b",
       "version_major": 2,
       "version_minor": 0
      },
      "text/plain": [
       "tokenizer_config.json:   0%|          | 0.00/49.0 [00:00<?, ?B/s]"
      ]
     },
     "metadata": {},
     "output_type": "display_data"
    },
    {
     "data": {
      "application/vnd.jupyter.widget-view+json": {
       "model_id": "186ef9ac31bb4200b791163b9f6f4c3a",
       "version_major": 2,
       "version_minor": 0
      },
      "text/plain": [
       "config.json:   0%|          | 0.00/462 [00:00<?, ?B/s]"
      ]
     },
     "metadata": {},
     "output_type": "display_data"
    },
    {
     "data": {
      "application/vnd.jupyter.widget-view+json": {
       "model_id": "a3d5905a83454ed8aadff4b752bc06ed",
       "version_major": 2,
       "version_minor": 0
      },
      "text/plain": [
       "vocab.txt:   0%|          | 0.00/213k [00:00<?, ?B/s]"
      ]
     },
     "metadata": {},
     "output_type": "display_data"
    },
    {
     "data": {
      "application/vnd.jupyter.widget-view+json": {
       "model_id": "dfd2e6297da34ec0a610c0cca744fb7a",
       "version_major": 2,
       "version_minor": 0
      },
      "text/plain": [
       "special_tokens_map.json:   0%|          | 0.00/112 [00:00<?, ?B/s]"
      ]
     },
     "metadata": {},
     "output_type": "display_data"
    }
   ],
   "source": [
    "model_name='dmis-lab/biobert-v1.1'\n",
    "tokenizer = AutoTokenizer.from_pretrained(model_name)"
   ]
  },
  {
   "cell_type": "code",
   "execution_count": null,
   "id": "6999d626",
   "metadata": {
    "id": "bLUdYipCHjFM",
    "papermill": {
     "duration": 0.017909,
     "end_time": "2024-04-27T17:43:13.928261",
     "exception": false,
     "start_time": "2024-04-27T17:43:13.910352",
     "status": "completed"
    },
    "tags": []
   },
   "outputs": [],
   "source": []
  },
  {
   "cell_type": "code",
   "execution_count": 16,
   "id": "0b191ea6",
   "metadata": {
    "execution": {
     "iopub.execute_input": "2024-04-27T17:43:13.965794Z",
     "iopub.status.busy": "2024-04-27T17:43:13.965075Z",
     "iopub.status.idle": "2024-04-27T17:43:13.970865Z",
     "shell.execute_reply": "2024-04-27T17:43:13.969767Z"
    },
    "papermill": {
     "duration": 0.026494,
     "end_time": "2024-04-27T17:43:13.972751",
     "exception": false,
     "start_time": "2024-04-27T17:43:13.946257",
     "status": "completed"
    },
    "tags": []
   },
   "outputs": [
    {
     "name": "stdout",
     "output_type": "stream",
     "text": [
      "Folder 'Datasets2' created successfully.\n"
     ]
    }
   ],
   "source": [
    "import os\n",
    "folder_path = \"/kaggle/working/Datasets2\"\n",
    "\n",
    "if not os.path.exists(folder_path):\n",
    "    os.makedirs(folder_path)\n",
    "    print(\"Folder 'Datasets2' created successfully.\")\n",
    "else:\n",
    "    print(\"Folder 'Datasets2' already exists.\")"
   ]
  },
  {
   "cell_type": "code",
   "execution_count": 17,
   "id": "f8cd6f35",
   "metadata": {
    "execution": {
     "iopub.execute_input": "2024-04-27T17:43:14.009644Z",
     "iopub.status.busy": "2024-04-27T17:43:14.009382Z",
     "iopub.status.idle": "2024-04-27T17:43:14.014839Z",
     "shell.execute_reply": "2024-04-27T17:43:14.014017Z"
    },
    "id": "Xpd4xjoKHlhJ",
    "papermill": {
     "duration": 0.026028,
     "end_time": "2024-04-27T17:43:14.016698",
     "exception": false,
     "start_time": "2024-04-27T17:43:13.990670",
     "status": "completed"
    },
    "tags": []
   },
   "outputs": [],
   "source": [
    "def dump_to_pickle(data_set, file_name, class_name=None):\n",
    "    if class_name == None:\n",
    "        folders = os.path.join('Datasets2')\n",
    "    else:\n",
    "        folders = os.path.join('Datasets2', class_name)\n",
    "    os.makedirs(folders, exist_ok=True)\n",
    "    filename = file_name+'.pkl'\n",
    "    file_path = os.path.join(folders, filename)\n",
    "    outfile = open(file_path,'wb')\n",
    "    pickle.dump(data_set,outfile, protocol=4)"
   ]
  },
  {
   "cell_type": "code",
   "execution_count": 18,
   "id": "526a2bce",
   "metadata": {
    "execution": {
     "iopub.execute_input": "2024-04-27T17:43:14.054011Z",
     "iopub.status.busy": "2024-04-27T17:43:14.053440Z",
     "iopub.status.idle": "2024-04-27T17:43:14.058227Z",
     "shell.execute_reply": "2024-04-27T17:43:14.057414Z"
    },
    "id": "XtHtSVykHohE",
    "papermill": {
     "duration": 0.025461,
     "end_time": "2024-04-27T17:43:14.060070",
     "exception": false,
     "start_time": "2024-04-27T17:43:14.034609",
     "status": "completed"
    },
    "tags": []
   },
   "outputs": [],
   "source": [
    "def BERTtokenizer_ClassText(df):\n",
    "\n",
    "    tokenized_encodings = tokenizer(df[\"class\"].to_list(),\n",
    "                                 df[\"text\"].to_list(),\n",
    "                                 truncation=True,\n",
    "                                 is_split_into_words=True,\n",
    "                                 add_special_tokens=True,\n",
    "                                 padding='max_length',\n",
    "                                 max_length=512)\n",
    "    return tokenized_encodings"
   ]
  },
  {
   "cell_type": "code",
   "execution_count": 19,
   "id": "aeb5d2b0",
   "metadata": {
    "execution": {
     "iopub.execute_input": "2024-04-27T17:43:14.138039Z",
     "iopub.status.busy": "2024-04-27T17:43:14.137348Z",
     "iopub.status.idle": "2024-04-27T17:43:14.145068Z",
     "shell.execute_reply": "2024-04-27T17:43:14.144217Z"
    },
    "id": "kzoNVafmHsJu",
    "papermill": {
     "duration": 0.029166,
     "end_time": "2024-04-27T17:43:14.147059",
     "exception": false,
     "start_time": "2024-04-27T17:43:14.117893",
     "status": "completed"
    },
    "tags": []
   },
   "outputs": [],
   "source": [
    "def label_m(df, tokenized_encodings, label_all_tokens = True):\n",
    "\n",
    "    labels = list()\n",
    "    for i, label in enumerate(df['labels']):\n",
    "        word_ids = tokenized_encodings.word_ids(batch_index=i)  \n",
    "        previous_word_idx = None\n",
    "        label_ids = []\n",
    "        for word_idx in word_ids:  \n",
    "            if word_idx is None:\n",
    "                label_ids.append(-100)\n",
    "            elif word_idx != previous_word_idx:\n",
    "                if word_idx < len(label):\n",
    "                    label_ids.append(label[word_idx])\n",
    "                else:\n",
    "                    label_ids.append(-100)\n",
    "            else:\n",
    "                label_ids.append(label[word_idx] if label_all_tokens else -100)\n",
    "            previous_word_idx = word_idx\n",
    "        stop = label_ids.index(-100, 2) \n",
    "        label_ids = label_ids[:1] + [1 for x in label_ids[1:stop]] + label_ids[stop:]\n",
    "        labels.append(label_ids)\n",
    "    return labels"
   ]
  },
  {
   "cell_type": "code",
   "execution_count": 20,
   "id": "edd68435",
   "metadata": {
    "execution": {
     "iopub.execute_input": "2024-04-27T17:43:14.185330Z",
     "iopub.status.busy": "2024-04-27T17:43:14.184687Z",
     "iopub.status.idle": "2024-04-27T17:43:14.190509Z",
     "shell.execute_reply": "2024-04-27T17:43:14.189700Z"
    },
    "id": "hu5zQykBHu36",
    "papermill": {
     "duration": 0.027095,
     "end_time": "2024-04-27T17:43:14.192387",
     "exception": false,
     "start_time": "2024-04-27T17:43:14.165292",
     "status": "completed"
    },
    "tags": []
   },
   "outputs": [],
   "source": [
    "class Dataset_maker(torch.utils.data.Dataset):\n",
    "    def __init__(self, encodings, labels):\n",
    "        self.encodings = encodings\n",
    "        self.labels = labels\n",
    "\n",
    "    def __getitem__(self, idx):\n",
    "        item = {key: torch.tensor(val[idx]) for key, val in self.encodings.items()}\n",
    "        item['labels'] = torch.tensor(self.labels[idx])\n",
    "        return item\n",
    "\n",
    "    def __len__(self):\n",
    "        return len(self.labels)"
   ]
  },
  {
   "cell_type": "code",
   "execution_count": 21,
   "id": "a6dfe961",
   "metadata": {
    "execution": {
     "iopub.execute_input": "2024-04-27T17:43:14.229561Z",
     "iopub.status.busy": "2024-04-27T17:43:14.229298Z",
     "iopub.status.idle": "2024-04-27T17:43:27.029871Z",
     "shell.execute_reply": "2024-04-27T17:43:27.028876Z"
    },
    "papermill": {
     "duration": 12.821932,
     "end_time": "2024-04-27T17:43:27.032218",
     "exception": false,
     "start_time": "2024-04-27T17:43:14.210286",
     "status": "completed"
    },
    "tags": []
   },
   "outputs": [],
   "source": [
    "tokenized_encodings_train = BERTtokenizer_ClassText(df_train)\n",
    "labels_train = label_m(df_train, tokenized_encodings_train, label_all_tokens = True)\n",
    "dataset_train = Dataset_maker(tokenized_encodings_train, labels_train)"
   ]
  },
  {
   "cell_type": "code",
   "execution_count": 22,
   "id": "5e1a38f0",
   "metadata": {
    "execution": {
     "iopub.execute_input": "2024-04-27T17:43:27.071755Z",
     "iopub.status.busy": "2024-04-27T17:43:27.071431Z",
     "iopub.status.idle": "2024-04-27T17:43:27.075403Z",
     "shell.execute_reply": "2024-04-27T17:43:27.074512Z"
    },
    "papermill": {
     "duration": 0.025745,
     "end_time": "2024-04-27T17:43:27.077365",
     "exception": false,
     "start_time": "2024-04-27T17:43:27.051620",
     "status": "completed"
    },
    "tags": []
   },
   "outputs": [],
   "source": [
    "del tokenized_encodings_train"
   ]
  },
  {
   "cell_type": "code",
   "execution_count": 23,
   "id": "f4883ad9",
   "metadata": {
    "execution": {
     "iopub.execute_input": "2024-04-27T17:43:27.114855Z",
     "iopub.status.busy": "2024-04-27T17:43:27.114521Z",
     "iopub.status.idle": "2024-04-27T17:43:27.118567Z",
     "shell.execute_reply": "2024-04-27T17:43:27.117835Z"
    },
    "papermill": {
     "duration": 0.024866,
     "end_time": "2024-04-27T17:43:27.120299",
     "exception": false,
     "start_time": "2024-04-27T17:43:27.095433",
     "status": "completed"
    },
    "tags": []
   },
   "outputs": [],
   "source": [
    "del labels_train"
   ]
  },
  {
   "cell_type": "code",
   "execution_count": 24,
   "id": "b69b7e84",
   "metadata": {
    "execution": {
     "iopub.execute_input": "2024-04-27T17:43:27.157999Z",
     "iopub.status.busy": "2024-04-27T17:43:27.157746Z",
     "iopub.status.idle": "2024-04-27T17:43:27.814929Z",
     "shell.execute_reply": "2024-04-27T17:43:27.814139Z"
    },
    "papermill": {
     "duration": 0.678486,
     "end_time": "2024-04-27T17:43:27.817295",
     "exception": false,
     "start_time": "2024-04-27T17:43:27.138809",
     "status": "completed"
    },
    "tags": []
   },
   "outputs": [],
   "source": [
    "tokenized_encodings_valid = BERTtokenizer_ClassText(df_valid)\n",
    "labels_valid = label_m(df_valid, tokenized_encodings_valid, label_all_tokens = True)\n",
    "dataset_valid = Dataset_maker(tokenized_encodings_valid, labels_valid)\n"
   ]
  },
  {
   "cell_type": "code",
   "execution_count": 25,
   "id": "67247637",
   "metadata": {
    "execution": {
     "iopub.execute_input": "2024-04-27T17:43:27.859368Z",
     "iopub.status.busy": "2024-04-27T17:43:27.858988Z",
     "iopub.status.idle": "2024-04-27T17:43:27.863403Z",
     "shell.execute_reply": "2024-04-27T17:43:27.862437Z"
    },
    "papermill": {
     "duration": 0.02657,
     "end_time": "2024-04-27T17:43:27.865681",
     "exception": false,
     "start_time": "2024-04-27T17:43:27.839111",
     "status": "completed"
    },
    "tags": []
   },
   "outputs": [],
   "source": [
    "del tokenized_encodings_valid\n",
    "del labels_valid"
   ]
  },
  {
   "cell_type": "code",
   "execution_count": 26,
   "id": "2c27d685",
   "metadata": {
    "execution": {
     "iopub.execute_input": "2024-04-27T17:43:27.909707Z",
     "iopub.status.busy": "2024-04-27T17:43:27.909395Z",
     "iopub.status.idle": "2024-04-27T17:43:30.023279Z",
     "shell.execute_reply": "2024-04-27T17:43:30.022471Z"
    },
    "papermill": {
     "duration": 2.138521,
     "end_time": "2024-04-27T17:43:30.025494",
     "exception": false,
     "start_time": "2024-04-27T17:43:27.886973",
     "status": "completed"
    },
    "tags": []
   },
   "outputs": [],
   "source": [
    "tokenized_encodings_test = BERTtokenizer_ClassText(df_test)\n",
    "labels_test = label_m(df_test, tokenized_encodings_test, label_all_tokens = True)\n",
    "dataset_test = Dataset_maker(tokenized_encodings_test, labels_test)"
   ]
  },
  {
   "cell_type": "code",
   "execution_count": 27,
   "id": "ddd931db",
   "metadata": {
    "execution": {
     "iopub.execute_input": "2024-04-27T17:43:30.064362Z",
     "iopub.status.busy": "2024-04-27T17:43:30.064032Z",
     "iopub.status.idle": "2024-04-27T17:43:30.068175Z",
     "shell.execute_reply": "2024-04-27T17:43:30.067274Z"
    },
    "id": "zX1cDgSOHxH4",
    "papermill": {
     "duration": 0.025642,
     "end_time": "2024-04-27T17:43:30.070297",
     "exception": false,
     "start_time": "2024-04-27T17:43:30.044655",
     "status": "completed"
    },
    "tags": []
   },
   "outputs": [],
   "source": [
    "del tokenized_encodings_test"
   ]
  },
  {
   "cell_type": "code",
   "execution_count": 28,
   "id": "745c9f28",
   "metadata": {
    "execution": {
     "iopub.execute_input": "2024-04-27T17:43:30.107443Z",
     "iopub.status.busy": "2024-04-27T17:43:30.107174Z",
     "iopub.status.idle": "2024-04-27T17:43:30.110893Z",
     "shell.execute_reply": "2024-04-27T17:43:30.110116Z"
    },
    "id": "aS9A9XmQL9lK",
    "papermill": {
     "duration": 0.024322,
     "end_time": "2024-04-27T17:43:30.112764",
     "exception": false,
     "start_time": "2024-04-27T17:43:30.088442",
     "status": "completed"
    },
    "tags": []
   },
   "outputs": [],
   "source": [
    "del labels_test"
   ]
  },
  {
   "cell_type": "code",
   "execution_count": 29,
   "id": "78bf5a1f",
   "metadata": {
    "execution": {
     "iopub.execute_input": "2024-04-27T17:43:30.149989Z",
     "iopub.status.busy": "2024-04-27T17:43:30.149735Z",
     "iopub.status.idle": "2024-04-27T17:43:30.903451Z",
     "shell.execute_reply": "2024-04-27T17:43:30.902565Z"
    },
    "id": "OHrwTRCuMAJf",
    "outputId": "454bde3a-dfdb-4bec-a554-d1503a30bb1b",
    "papermill": {
     "duration": 0.774683,
     "end_time": "2024-04-27T17:43:30.905465",
     "exception": false,
     "start_time": "2024-04-27T17:43:30.130782",
     "status": "completed"
    },
    "tags": []
   },
   "outputs": [
    {
     "data": {
      "text/plain": [
       "0"
      ]
     },
     "execution_count": 29,
     "metadata": {},
     "output_type": "execute_result"
    }
   ],
   "source": [
    "gc.collect()"
   ]
  },
  {
   "cell_type": "code",
   "execution_count": null,
   "id": "d2710e9a",
   "metadata": {
    "id": "8CaGpNLHME2m",
    "papermill": {
     "duration": 0.01847,
     "end_time": "2024-04-27T17:43:30.942748",
     "exception": false,
     "start_time": "2024-04-27T17:43:30.924278",
     "status": "completed"
    },
    "tags": []
   },
   "outputs": [],
   "source": []
  },
  {
   "cell_type": "code",
   "execution_count": 30,
   "id": "c941299c",
   "metadata": {
    "execution": {
     "iopub.execute_input": "2024-04-27T17:43:30.981877Z",
     "iopub.status.busy": "2024-04-27T17:43:30.981035Z",
     "iopub.status.idle": "2024-04-27T17:43:31.734401Z",
     "shell.execute_reply": "2024-04-27T17:43:31.733492Z"
    },
    "id": "UDZaTumcMJeG",
    "papermill": {
     "duration": 0.775122,
     "end_time": "2024-04-27T17:43:31.736520",
     "exception": false,
     "start_time": "2024-04-27T17:43:30.961398",
     "status": "completed"
    },
    "tags": []
   },
   "outputs": [
    {
     "data": {
      "text/plain": [
       "0"
      ]
     },
     "execution_count": 30,
     "metadata": {},
     "output_type": "execute_result"
    }
   ],
   "source": [
    "gc.collect()"
   ]
  },
  {
   "cell_type": "code",
   "execution_count": 31,
   "id": "bcfbbcd9",
   "metadata": {
    "execution": {
     "iopub.execute_input": "2024-04-27T17:43:31.776136Z",
     "iopub.status.busy": "2024-04-27T17:43:31.775354Z",
     "iopub.status.idle": "2024-04-27T17:43:44.927883Z",
     "shell.execute_reply": "2024-04-27T17:43:44.927123Z"
    },
    "id": "iynet7OdMNAs",
    "papermill": {
     "duration": 13.174716,
     "end_time": "2024-04-27T17:43:44.930208",
     "exception": false,
     "start_time": "2024-04-27T17:43:31.755492",
     "status": "completed"
    },
    "tags": []
   },
   "outputs": [
    {
     "name": "stderr",
     "output_type": "stream",
     "text": [
      "2024-04-27 17:43:35.814198: E external/local_xla/xla/stream_executor/cuda/cuda_dnn.cc:9261] Unable to register cuDNN factory: Attempting to register factory for plugin cuDNN when one has already been registered\n",
      "2024-04-27 17:43:35.814289: E external/local_xla/xla/stream_executor/cuda/cuda_fft.cc:607] Unable to register cuFFT factory: Attempting to register factory for plugin cuFFT when one has already been registered\n",
      "2024-04-27 17:43:35.952323: E external/local_xla/xla/stream_executor/cuda/cuda_blas.cc:1515] Unable to register cuBLAS factory: Attempting to register factory for plugin cuBLAS when one has already been registered\n"
     ]
    }
   ],
   "source": [
    "import pandas as pd\n",
    "import pickle\n",
    "import numpy as np\n",
    "\n",
    "import os\n",
    "\n",
    "import torch\n",
    "from torch.utils.data import Subset\n",
    "\n",
    "import transformers\n",
    "from transformers import AutoTokenizer\n",
    "from transformers import BertForTokenClassification, Trainer, TrainingArguments\n",
    "\n",
    "import random\n",
    "import time"
   ]
  },
  {
   "cell_type": "code",
   "execution_count": 32,
   "id": "4fe29589",
   "metadata": {
    "execution": {
     "iopub.execute_input": "2024-04-27T17:43:44.971225Z",
     "iopub.status.busy": "2024-04-27T17:43:44.970554Z",
     "iopub.status.idle": "2024-04-27T17:43:44.982241Z",
     "shell.execute_reply": "2024-04-27T17:43:44.981342Z"
    },
    "id": "LWKsCuuUMTgj",
    "papermill": {
     "duration": 0.034299,
     "end_time": "2024-04-27T17:43:44.984319",
     "exception": false,
     "start_time": "2024-04-27T17:43:44.950020",
     "status": "completed"
    },
    "tags": []
   },
   "outputs": [],
   "source": [
    "\n",
    "class P_Dataset(torch.utils.data.Dataset):\n",
    "    def __init__(self, encodings, labels):\n",
    "        self.encodings = encodings\n",
    "        self.labels = labels\n",
    "\n",
    "    def __getitem__(self, idx):\n",
    "        item = {key: torch.tensor(val[idx]) for key, val in self.encodings.items()}\n",
    "        item['labels'] = torch.tensor(self.labels[idx])\n",
    "        return item\n",
    "\n",
    "    def __len__(self):\n",
    "        return len(self.labels)\n",
    "\n",
    "def load_from_pickle(pickle_name):\n",
    "    with open(pickle_name, 'rb') as fh:\n",
    "        unpickled_object = pickle.load(fh)\n",
    "    return unpickled_object\n",
    "\n",
    "\n",
    "def dump_to_pickle(data_set, file_name, class_name=None):\n",
    "    if class_name == None:\n",
    "        folders = os.path.join('Datasets3')\n",
    "    else:\n",
    "        folders = os.path.join('Datasets3', class_name)\n",
    "    os.makedirs(folders, exist_ok=True)\n",
    "    filename = file_name+'.pkl'\n",
    "    file_path = os.path.join(folders, filename)\n",
    "    outfile = open(file_path,'wb')\n",
    "    pickle.dump(data_set,outfile, protocol=4)"
   ]
  },
  {
   "cell_type": "code",
   "execution_count": 33,
   "id": "4ae59130",
   "metadata": {
    "execution": {
     "iopub.execute_input": "2024-04-27T17:43:45.025323Z",
     "iopub.status.busy": "2024-04-27T17:43:45.024581Z",
     "iopub.status.idle": "2024-04-27T17:43:45.030048Z",
     "shell.execute_reply": "2024-04-27T17:43:45.029154Z"
    },
    "id": "6G4M-pyZMbP5",
    "outputId": "b7652cdc-902d-4286-8790-3c564e1288ae",
    "papermill": {
     "duration": 0.028556,
     "end_time": "2024-04-27T17:43:45.032169",
     "exception": false,
     "start_time": "2024-04-27T17:43:45.003613",
     "status": "completed"
    },
    "tags": []
   },
   "outputs": [
    {
     "name": "stdout",
     "output_type": "stream",
     "text": [
      "Folder 'Datasets3' created successfully.\n"
     ]
    }
   ],
   "source": [
    "folder_path = \"/kaggle/working/Datasets3\"\n",
    "\n",
    "if not os.path.exists(folder_path):\n",
    "    os.makedirs(folder_path)\n",
    "    print(\"Folder 'Datasets3' created successfully.\")\n",
    "else:\n",
    "    print(\"Folder 'Datasets3' already exists.\")"
   ]
  },
  {
   "cell_type": "code",
   "execution_count": 34,
   "id": "37a067c6",
   "metadata": {
    "execution": {
     "iopub.execute_input": "2024-04-27T17:43:45.072487Z",
     "iopub.status.busy": "2024-04-27T17:43:45.071851Z",
     "iopub.status.idle": "2024-04-27T17:43:45.076534Z",
     "shell.execute_reply": "2024-04-27T17:43:45.075619Z"
    },
    "id": "x6bFT4rBOn0n",
    "papermill": {
     "duration": 0.026913,
     "end_time": "2024-04-27T17:43:45.078620",
     "exception": false,
     "start_time": "2024-04-27T17:43:45.051707",
     "status": "completed"
    },
    "tags": []
   },
   "outputs": [],
   "source": [
    "def Dataset_z(class_name):\n",
    "    indexes_train = list(df_train.index[df_train['klasa']!=class_name])\n",
    "    dataset_withoutOne_train = Subset(dataset_train, indexes_train)\n",
    "    return dataset_withoutOne_train"
   ]
  },
  {
   "cell_type": "code",
   "execution_count": 35,
   "id": "d58f7e8f",
   "metadata": {
    "execution": {
     "iopub.execute_input": "2024-04-27T17:43:45.119722Z",
     "iopub.status.busy": "2024-04-27T17:43:45.119153Z",
     "iopub.status.idle": "2024-04-27T17:43:45.123212Z",
     "shell.execute_reply": "2024-04-27T17:43:45.122325Z"
    },
    "id": "WW9TPPDmQ9nk",
    "papermill": {
     "duration": 0.026939,
     "end_time": "2024-04-27T17:43:45.125053",
     "exception": false,
     "start_time": "2024-04-27T17:43:45.098114",
     "status": "completed"
    },
    "tags": []
   },
   "outputs": [],
   "source": [
    "class_unseen = 'Disease'"
   ]
  },
  {
   "cell_type": "code",
   "execution_count": 36,
   "id": "6adef1e8",
   "metadata": {
    "execution": {
     "iopub.execute_input": "2024-04-27T17:43:45.166464Z",
     "iopub.status.busy": "2024-04-27T17:43:45.166116Z",
     "iopub.status.idle": "2024-04-27T17:43:45.183871Z",
     "shell.execute_reply": "2024-04-27T17:43:45.183138Z"
    },
    "id": "HcfZZbOwRLBY",
    "papermill": {
     "duration": 0.040979,
     "end_time": "2024-04-27T17:43:45.185860",
     "exception": false,
     "start_time": "2024-04-27T17:43:45.144881",
     "status": "completed"
    },
    "tags": []
   },
   "outputs": [],
   "source": [
    "train0shot= Dataset_z(class_unseen)"
   ]
  },
  {
   "cell_type": "code",
   "execution_count": 37,
   "id": "cdd336a1",
   "metadata": {
    "execution": {
     "iopub.execute_input": "2024-04-27T17:43:45.227953Z",
     "iopub.status.busy": "2024-04-27T17:43:45.227053Z",
     "iopub.status.idle": "2024-04-27T17:43:45.234465Z",
     "shell.execute_reply": "2024-04-27T17:43:45.233620Z"
    },
    "id": "cFPveURuRRlT",
    "papermill": {
     "duration": 0.030631,
     "end_time": "2024-04-27T17:43:45.236442",
     "exception": false,
     "start_time": "2024-04-27T17:43:45.205811",
     "status": "completed"
    },
    "tags": []
   },
   "outputs": [],
   "source": [
    "del dataset_train,df_train"
   ]
  },
  {
   "cell_type": "code",
   "execution_count": 38,
   "id": "c4a5c67a",
   "metadata": {
    "execution": {
     "iopub.execute_input": "2024-04-27T17:43:45.276501Z",
     "iopub.status.busy": "2024-04-27T17:43:45.276232Z",
     "iopub.status.idle": "2024-04-27T17:43:46.181057Z",
     "shell.execute_reply": "2024-04-27T17:43:46.180147Z"
    },
    "id": "p5cUPlmkRXRJ",
    "outputId": "8226a5e0-a172-4f7e-9eeb-259ba3258ed3",
    "papermill": {
     "duration": 0.927308,
     "end_time": "2024-04-27T17:43:46.183136",
     "exception": false,
     "start_time": "2024-04-27T17:43:45.255828",
     "status": "completed"
    },
    "tags": []
   },
   "outputs": [
    {
     "data": {
      "text/plain": [
       "83"
      ]
     },
     "execution_count": 38,
     "metadata": {},
     "output_type": "execute_result"
    }
   ],
   "source": [
    "gc.collect()"
   ]
  },
  {
   "cell_type": "code",
   "execution_count": 39,
   "id": "87094ae5",
   "metadata": {
    "execution": {
     "iopub.execute_input": "2024-04-27T17:43:46.222475Z",
     "iopub.status.busy": "2024-04-27T17:43:46.222173Z",
     "iopub.status.idle": "2024-04-27T17:43:46.227142Z",
     "shell.execute_reply": "2024-04-27T17:43:46.226296Z"
    },
    "id": "CszoDoFTRkIt",
    "outputId": "4eedf778-3e17-47c3-ef52-f9291e812e08",
    "papermill": {
     "duration": 0.027127,
     "end_time": "2024-04-27T17:43:46.229492",
     "exception": false,
     "start_time": "2024-04-27T17:43:46.202365",
     "status": "completed"
    },
    "tags": []
   },
   "outputs": [
    {
     "name": "stdout",
     "output_type": "stream",
     "text": [
      "Folder 'Results' created successfully.\n"
     ]
    }
   ],
   "source": [
    "folder_path = \"/kaggle/working/Results\"\n",
    "\n",
    "# Create the folder if it doesn't exist\n",
    "if not os.path.exists(folder_path):\n",
    "    os.makedirs(folder_path)\n",
    "    print(\"Folder 'Results' created successfully.\")\n",
    "else:\n",
    "    print(\"Folder 'Results' already exists.\")"
   ]
  },
  {
   "cell_type": "code",
   "execution_count": 40,
   "id": "13e3cf5f",
   "metadata": {
    "execution": {
     "iopub.execute_input": "2024-04-27T17:43:46.268605Z",
     "iopub.status.busy": "2024-04-27T17:43:46.268335Z",
     "iopub.status.idle": "2024-04-27T17:43:46.273657Z",
     "shell.execute_reply": "2024-04-27T17:43:46.272750Z"
    },
    "id": "WVSL2FwKRq8A",
    "outputId": "ded31498-dc3d-4205-d61a-b44e5f6fcc5c",
    "papermill": {
     "duration": 0.02734,
     "end_time": "2024-04-27T17:43:46.275509",
     "exception": false,
     "start_time": "2024-04-27T17:43:46.248169",
     "status": "completed"
    },
    "tags": []
   },
   "outputs": [
    {
     "name": "stdout",
     "output_type": "stream",
     "text": [
      "Folder 'Logs' created successfully.\n"
     ]
    }
   ],
   "source": [
    "folder_path = \"/kaggle/working/Logs\"\n",
    "\n",
    "# Create the folder if it doesn't exist\n",
    "if not os.path.exists(folder_path):\n",
    "    os.makedirs(folder_path)\n",
    "    print(\"Folder 'Logs' created successfully.\")\n",
    "else:\n",
    "    print(\"Folder 'Logs' already exists.\")"
   ]
  },
  {
   "cell_type": "code",
   "execution_count": 41,
   "id": "50610e8f",
   "metadata": {
    "execution": {
     "iopub.execute_input": "2024-04-27T17:43:46.315378Z",
     "iopub.status.busy": "2024-04-27T17:43:46.315117Z",
     "iopub.status.idle": "2024-04-27T17:43:47.198899Z",
     "shell.execute_reply": "2024-04-27T17:43:47.198055Z"
    },
    "id": "7s9WvS_oRtdh",
    "outputId": "097834f8-96e5-4080-b85e-b04927482feb",
    "papermill": {
     "duration": 0.906174,
     "end_time": "2024-04-27T17:43:47.201566",
     "exception": false,
     "start_time": "2024-04-27T17:43:46.295392",
     "status": "completed"
    },
    "tags": []
   },
   "outputs": [
    {
     "data": {
      "text/plain": [
       "0"
      ]
     },
     "execution_count": 41,
     "metadata": {},
     "output_type": "execute_result"
    }
   ],
   "source": [
    "gc.collect()"
   ]
  },
  {
   "cell_type": "code",
   "execution_count": 42,
   "id": "ed1d2388",
   "metadata": {
    "execution": {
     "iopub.execute_input": "2024-04-27T17:43:47.252118Z",
     "iopub.status.busy": "2024-04-27T17:43:47.251516Z",
     "iopub.status.idle": "2024-04-27T17:43:47.256145Z",
     "shell.execute_reply": "2024-04-27T17:43:47.255286Z"
    },
    "id": "TzAbyablSAdt",
    "papermill": {
     "duration": 0.02678,
     "end_time": "2024-04-27T17:43:47.258010",
     "exception": false,
     "start_time": "2024-04-27T17:43:47.231230",
     "status": "completed"
    },
    "tags": []
   },
   "outputs": [],
   "source": [
    "valid_dataset=dataset_valid"
   ]
  },
  {
   "cell_type": "code",
   "execution_count": 43,
   "id": "cbbe6127",
   "metadata": {
    "execution": {
     "iopub.execute_input": "2024-04-27T17:43:47.297674Z",
     "iopub.status.busy": "2024-04-27T17:43:47.297135Z",
     "iopub.status.idle": "2024-04-27T17:43:48.175967Z",
     "shell.execute_reply": "2024-04-27T17:43:48.175027Z"
    },
    "id": "8uNAPGnCSOCv",
    "outputId": "acb8d99f-f588-486b-bc10-0fb6929b0058",
    "papermill": {
     "duration": 0.900574,
     "end_time": "2024-04-27T17:43:48.177929",
     "exception": false,
     "start_time": "2024-04-27T17:43:47.277355",
     "status": "completed"
    },
    "tags": []
   },
   "outputs": [
    {
     "data": {
      "text/plain": [
       "0"
      ]
     },
     "execution_count": 43,
     "metadata": {},
     "output_type": "execute_result"
    }
   ],
   "source": [
    "gc.collect()"
   ]
  },
  {
   "cell_type": "code",
   "execution_count": 44,
   "id": "81f386c3",
   "metadata": {
    "execution": {
     "iopub.execute_input": "2024-04-27T17:43:48.217880Z",
     "iopub.status.busy": "2024-04-27T17:43:48.217606Z",
     "iopub.status.idle": "2024-04-27T17:44:00.845882Z",
     "shell.execute_reply": "2024-04-27T17:44:00.844522Z"
    },
    "id": "1Ipsp7gWTHYJ",
    "outputId": "c0d6dd5f-3790-4453-f0cb-306faa74d306",
    "papermill": {
     "duration": 12.650295,
     "end_time": "2024-04-27T17:44:00.847939",
     "exception": false,
     "start_time": "2024-04-27T17:43:48.197644",
     "status": "completed"
    },
    "tags": []
   },
   "outputs": [
    {
     "name": "stderr",
     "output_type": "stream",
     "text": [
      "huggingface/tokenizers: The current process just got forked, after parallelism has already been used. Disabling parallelism to avoid deadlocks...\n",
      "To disable this warning, you can either:\n",
      "\t- Avoid using `tokenizers` before the fork if possible\n",
      "\t- Explicitly set the environment variable TOKENIZERS_PARALLELISM=(true | false)\n"
     ]
    },
    {
     "name": "stdout",
     "output_type": "stream",
     "text": [
      "Requirement already satisfied: accelerate in /opt/conda/lib/python3.10/site-packages (0.28.0)\r\n",
      "Collecting accelerate\r\n",
      "  Downloading accelerate-0.29.3-py3-none-any.whl.metadata (18 kB)\r\n",
      "Requirement already satisfied: numpy>=1.17 in /opt/conda/lib/python3.10/site-packages (from accelerate) (1.26.4)\r\n",
      "Requirement already satisfied: packaging>=20.0 in /opt/conda/lib/python3.10/site-packages (from accelerate) (21.3)\r\n",
      "Requirement already satisfied: psutil in /opt/conda/lib/python3.10/site-packages (from accelerate) (5.9.3)\r\n",
      "Requirement already satisfied: pyyaml in /opt/conda/lib/python3.10/site-packages (from accelerate) (6.0.1)\r\n",
      "Requirement already satisfied: torch>=1.10.0 in /opt/conda/lib/python3.10/site-packages (from accelerate) (2.1.2)\r\n",
      "Requirement already satisfied: huggingface-hub in /opt/conda/lib/python3.10/site-packages (from accelerate) (0.22.2)\r\n",
      "Requirement already satisfied: safetensors>=0.3.1 in /opt/conda/lib/python3.10/site-packages (from accelerate) (0.4.2)\r\n",
      "Requirement already satisfied: pyparsing!=3.0.5,>=2.0.2 in /opt/conda/lib/python3.10/site-packages (from packaging>=20.0->accelerate) (3.1.1)\r\n",
      "Requirement already satisfied: filelock in /opt/conda/lib/python3.10/site-packages (from torch>=1.10.0->accelerate) (3.13.1)\r\n",
      "Requirement already satisfied: typing-extensions in /opt/conda/lib/python3.10/site-packages (from torch>=1.10.0->accelerate) (4.9.0)\r\n",
      "Requirement already satisfied: sympy in /opt/conda/lib/python3.10/site-packages (from torch>=1.10.0->accelerate) (1.12)\r\n",
      "Requirement already satisfied: networkx in /opt/conda/lib/python3.10/site-packages (from torch>=1.10.0->accelerate) (3.2.1)\r\n",
      "Requirement already satisfied: jinja2 in /opt/conda/lib/python3.10/site-packages (from torch>=1.10.0->accelerate) (3.1.2)\r\n",
      "Requirement already satisfied: fsspec in /opt/conda/lib/python3.10/site-packages (from torch>=1.10.0->accelerate) (2024.2.0)\r\n",
      "Requirement already satisfied: requests in /opt/conda/lib/python3.10/site-packages (from huggingface-hub->accelerate) (2.31.0)\r\n",
      "Requirement already satisfied: tqdm>=4.42.1 in /opt/conda/lib/python3.10/site-packages (from huggingface-hub->accelerate) (4.66.1)\r\n",
      "Requirement already satisfied: MarkupSafe>=2.0 in /opt/conda/lib/python3.10/site-packages (from jinja2->torch>=1.10.0->accelerate) (2.1.3)\r\n",
      "Requirement already satisfied: charset-normalizer<4,>=2 in /opt/conda/lib/python3.10/site-packages (from requests->huggingface-hub->accelerate) (3.3.2)\r\n",
      "Requirement already satisfied: idna<4,>=2.5 in /opt/conda/lib/python3.10/site-packages (from requests->huggingface-hub->accelerate) (3.6)\r\n",
      "Requirement already satisfied: urllib3<3,>=1.21.1 in /opt/conda/lib/python3.10/site-packages (from requests->huggingface-hub->accelerate) (1.26.18)\r\n",
      "Requirement already satisfied: certifi>=2017.4.17 in /opt/conda/lib/python3.10/site-packages (from requests->huggingface-hub->accelerate) (2024.2.2)\r\n",
      "Requirement already satisfied: mpmath>=0.19 in /opt/conda/lib/python3.10/site-packages (from sympy->torch>=1.10.0->accelerate) (1.3.0)\r\n",
      "Downloading accelerate-0.29.3-py3-none-any.whl (297 kB)\r\n",
      "\u001b[2K   \u001b[90m━━━━━━━━━━━━━━━━━━━━━━━━━━━━━━━━━━━━━━━━\u001b[0m \u001b[32m297.6/297.6 kB\u001b[0m \u001b[31m6.5 MB/s\u001b[0m eta \u001b[36m0:00:00\u001b[0m\r\n",
      "\u001b[?25hInstalling collected packages: accelerate\r\n",
      "  Attempting uninstall: accelerate\r\n",
      "    Found existing installation: accelerate 0.28.0\r\n",
      "    Uninstalling accelerate-0.28.0:\r\n",
      "      Successfully uninstalled accelerate-0.28.0\r\n",
      "Successfully installed accelerate-0.29.3\r\n",
      "Note: you may need to restart the kernel to use updated packages.\n"
     ]
    }
   ],
   "source": [
    "pip install accelerate -U"
   ]
  },
  {
   "cell_type": "code",
   "execution_count": 45,
   "id": "38902328",
   "metadata": {
    "execution": {
     "iopub.execute_input": "2024-04-27T17:44:00.890718Z",
     "iopub.status.busy": "2024-04-27T17:44:00.890384Z",
     "iopub.status.idle": "2024-04-27T17:44:12.850318Z",
     "shell.execute_reply": "2024-04-27T17:44:12.849015Z"
    },
    "papermill": {
     "duration": 11.98386,
     "end_time": "2024-04-27T17:44:12.852622",
     "exception": false,
     "start_time": "2024-04-27T17:44:00.868762",
     "status": "completed"
    },
    "tags": []
   },
   "outputs": [
    {
     "name": "stderr",
     "output_type": "stream",
     "text": [
      "huggingface/tokenizers: The current process just got forked, after parallelism has already been used. Disabling parallelism to avoid deadlocks...\n",
      "To disable this warning, you can either:\n",
      "\t- Avoid using `tokenizers` before the fork if possible\n",
      "\t- Explicitly set the environment variable TOKENIZERS_PARALLELISM=(true | false)\n"
     ]
    },
    {
     "name": "stdout",
     "output_type": "stream",
     "text": [
      "Requirement already satisfied: transformers[torch] in /opt/conda/lib/python3.10/site-packages (4.39.3)\r\n",
      "Requirement already satisfied: filelock in /opt/conda/lib/python3.10/site-packages (from transformers[torch]) (3.13.1)\r\n",
      "Requirement already satisfied: huggingface-hub<1.0,>=0.19.3 in /opt/conda/lib/python3.10/site-packages (from transformers[torch]) (0.22.2)\r\n",
      "Requirement already satisfied: numpy>=1.17 in /opt/conda/lib/python3.10/site-packages (from transformers[torch]) (1.26.4)\r\n",
      "Requirement already satisfied: packaging>=20.0 in /opt/conda/lib/python3.10/site-packages (from transformers[torch]) (21.3)\r\n",
      "Requirement already satisfied: pyyaml>=5.1 in /opt/conda/lib/python3.10/site-packages (from transformers[torch]) (6.0.1)\r\n",
      "Requirement already satisfied: regex!=2019.12.17 in /opt/conda/lib/python3.10/site-packages (from transformers[torch]) (2023.12.25)\r\n",
      "Requirement already satisfied: requests in /opt/conda/lib/python3.10/site-packages (from transformers[torch]) (2.31.0)\r\n",
      "Requirement already satisfied: tokenizers<0.19,>=0.14 in /opt/conda/lib/python3.10/site-packages (from transformers[torch]) (0.15.2)\r\n",
      "Requirement already satisfied: safetensors>=0.4.1 in /opt/conda/lib/python3.10/site-packages (from transformers[torch]) (0.4.2)\r\n",
      "Requirement already satisfied: tqdm>=4.27 in /opt/conda/lib/python3.10/site-packages (from transformers[torch]) (4.66.1)\r\n",
      "Requirement already satisfied: torch in /opt/conda/lib/python3.10/site-packages (from transformers[torch]) (2.1.2)\r\n",
      "Requirement already satisfied: accelerate>=0.21.0 in /opt/conda/lib/python3.10/site-packages (from transformers[torch]) (0.29.3)\r\n",
      "Requirement already satisfied: psutil in /opt/conda/lib/python3.10/site-packages (from accelerate>=0.21.0->transformers[torch]) (5.9.3)\r\n",
      "Requirement already satisfied: fsspec>=2023.5.0 in /opt/conda/lib/python3.10/site-packages (from huggingface-hub<1.0,>=0.19.3->transformers[torch]) (2024.2.0)\r\n",
      "Requirement already satisfied: typing-extensions>=3.7.4.3 in /opt/conda/lib/python3.10/site-packages (from huggingface-hub<1.0,>=0.19.3->transformers[torch]) (4.9.0)\r\n",
      "Requirement already satisfied: pyparsing!=3.0.5,>=2.0.2 in /opt/conda/lib/python3.10/site-packages (from packaging>=20.0->transformers[torch]) (3.1.1)\r\n",
      "Requirement already satisfied: sympy in /opt/conda/lib/python3.10/site-packages (from torch->transformers[torch]) (1.12)\r\n",
      "Requirement already satisfied: networkx in /opt/conda/lib/python3.10/site-packages (from torch->transformers[torch]) (3.2.1)\r\n",
      "Requirement already satisfied: jinja2 in /opt/conda/lib/python3.10/site-packages (from torch->transformers[torch]) (3.1.2)\r\n",
      "Requirement already satisfied: charset-normalizer<4,>=2 in /opt/conda/lib/python3.10/site-packages (from requests->transformers[torch]) (3.3.2)\r\n",
      "Requirement already satisfied: idna<4,>=2.5 in /opt/conda/lib/python3.10/site-packages (from requests->transformers[torch]) (3.6)\r\n",
      "Requirement already satisfied: urllib3<3,>=1.21.1 in /opt/conda/lib/python3.10/site-packages (from requests->transformers[torch]) (1.26.18)\r\n",
      "Requirement already satisfied: certifi>=2017.4.17 in /opt/conda/lib/python3.10/site-packages (from requests->transformers[torch]) (2024.2.2)\r\n",
      "Requirement already satisfied: MarkupSafe>=2.0 in /opt/conda/lib/python3.10/site-packages (from jinja2->torch->transformers[torch]) (2.1.3)\r\n",
      "Requirement already satisfied: mpmath>=0.19 in /opt/conda/lib/python3.10/site-packages (from sympy->torch->transformers[torch]) (1.3.0)\r\n",
      "Note: you may need to restart the kernel to use updated packages.\n"
     ]
    }
   ],
   "source": [
    "pip install transformers[torch]"
   ]
  },
  {
   "cell_type": "code",
   "execution_count": 46,
   "id": "f2a0bae0",
   "metadata": {
    "execution": {
     "iopub.execute_input": "2024-04-27T17:44:12.897416Z",
     "iopub.status.busy": "2024-04-27T17:44:12.897067Z",
     "iopub.status.idle": "2024-04-27T17:44:13.608713Z",
     "shell.execute_reply": "2024-04-27T17:44:13.607751Z"
    },
    "papermill": {
     "duration": 0.736521,
     "end_time": "2024-04-27T17:44:13.611055",
     "exception": false,
     "start_time": "2024-04-27T17:44:12.874534",
     "status": "completed"
    },
    "tags": []
   },
   "outputs": [],
   "source": [
    "import wandb"
   ]
  },
  {
   "cell_type": "code",
   "execution_count": 47,
   "id": "a2ce9e46",
   "metadata": {
    "execution": {
     "iopub.execute_input": "2024-04-27T17:44:13.658167Z",
     "iopub.status.busy": "2024-04-27T17:44:13.657555Z",
     "iopub.status.idle": "2024-04-27T17:44:13.713687Z",
     "shell.execute_reply": "2024-04-27T17:44:13.712794Z"
    },
    "papermill": {
     "duration": 0.081001,
     "end_time": "2024-04-27T17:44:13.715541",
     "exception": false,
     "start_time": "2024-04-27T17:44:13.634540",
     "status": "completed"
    },
    "tags": []
   },
   "outputs": [],
   "source": [
    "device = torch.device(\"cuda\" if torch.cuda.is_available() else \"cpu\")"
   ]
  },
  {
   "cell_type": "code",
   "execution_count": 48,
   "id": "d24442a5",
   "metadata": {
    "execution": {
     "iopub.execute_input": "2024-04-27T17:44:13.759347Z",
     "iopub.status.busy": "2024-04-27T17:44:13.759043Z",
     "iopub.status.idle": "2024-04-27T17:44:13.764074Z",
     "shell.execute_reply": "2024-04-27T17:44:13.763328Z"
    },
    "id": "ZobUTfwVTBgh",
    "papermill": {
     "duration": 0.028891,
     "end_time": "2024-04-27T17:44:13.765941",
     "exception": false,
     "start_time": "2024-04-27T17:44:13.737050",
     "status": "completed"
    },
    "tags": []
   },
   "outputs": [],
   "source": [
    "import pandas as pd\n",
    "import pickle\n",
    "import numpy as np\n",
    "\n",
    "import os\n",
    "\n",
    "import torch\n",
    "from torch.utils.data import Subset\n",
    "\n",
    "import transformers\n",
    "from transformers import AutoTokenizer\n",
    "from transformers import BertForTokenClassification, Trainer, TrainingArguments\n",
    "\n",
    "import random\n",
    "import time"
   ]
  },
  {
   "cell_type": "code",
   "execution_count": 49,
   "id": "5153a91b",
   "metadata": {
    "execution": {
     "iopub.execute_input": "2024-04-27T17:44:13.809439Z",
     "iopub.status.busy": "2024-04-27T17:44:13.809169Z",
     "iopub.status.idle": "2024-04-27T20:25:56.734028Z",
     "shell.execute_reply": "2024-04-27T20:25:56.733139Z"
    },
    "id": "YQpLy1F0RZLd",
    "outputId": "74afbf92-cdbf-4709-b94c-e786201e868d",
    "papermill": {
     "duration": 9702.948984,
     "end_time": "2024-04-27T20:25:56.736025",
     "exception": false,
     "start_time": "2024-04-27T17:44:13.787041",
     "status": "completed"
    },
    "tags": []
   },
   "outputs": [
    {
     "name": "stderr",
     "output_type": "stream",
     "text": [
      "\u001b[34m\u001b[1mwandb\u001b[0m: W&B API key is configured. Use \u001b[1m`wandb login --relogin`\u001b[0m to force relogin\n",
      "\u001b[34m\u001b[1mwandb\u001b[0m: \u001b[33mWARNING\u001b[0m If you're specifying your api key in code, ensure this code is not shared publicly.\n",
      "\u001b[34m\u001b[1mwandb\u001b[0m: \u001b[33mWARNING\u001b[0m Consider setting the WANDB_API_KEY environment variable, or running `wandb login` from the command line.\n",
      "\u001b[34m\u001b[1mwandb\u001b[0m: Appending key for api.wandb.ai to your netrc file: /root/.netrc\n"
     ]
    },
    {
     "data": {
      "application/vnd.jupyter.widget-view+json": {
       "model_id": "e3c1e8cc460f4c6d8cd52b28910820f0",
       "version_major": 2,
       "version_minor": 0
      },
      "text/plain": [
       "pytorch_model.bin:   0%|          | 0.00/433M [00:00<?, ?B/s]"
      ]
     },
     "metadata": {},
     "output_type": "display_data"
    },
    {
     "name": "stderr",
     "output_type": "stream",
     "text": [
      "Some weights of BertForTokenClassification were not initialized from the model checkpoint at dmis-lab/biobert-v1.1 and are newly initialized: ['classifier.bias', 'classifier.weight']\n",
      "You should probably TRAIN this model on a down-stream task to be able to use it for predictions and inference.\n",
      "\u001b[34m\u001b[1mwandb\u001b[0m: Currently logged in as: \u001b[33mishaanb-ib\u001b[0m (\u001b[33minlpteam\u001b[0m). Use \u001b[1m`wandb login --relogin`\u001b[0m to force relogin\n",
      "\u001b[34m\u001b[1mwandb\u001b[0m: wandb version 0.16.6 is available!  To upgrade, please run:\n",
      "\u001b[34m\u001b[1mwandb\u001b[0m:  $ pip install wandb --upgrade\n",
      "\u001b[34m\u001b[1mwandb\u001b[0m: Tracking run with wandb version 0.16.5\n",
      "\u001b[34m\u001b[1mwandb\u001b[0m: Run data is saved locally in \u001b[35m\u001b[1m/kaggle/working/wandb/run-20240427_174419-icy428fe\u001b[0m\n",
      "\u001b[34m\u001b[1mwandb\u001b[0m: Run \u001b[1m`wandb offline`\u001b[0m to turn off syncing.\n",
      "\u001b[34m\u001b[1mwandb\u001b[0m: Syncing run \u001b[33mgolden-field-64\u001b[0m\n",
      "\u001b[34m\u001b[1mwandb\u001b[0m: ⭐️ View project at \u001b[34m\u001b[4mhttps://wandb.ai/inlpteam/huggingface\u001b[0m\n",
      "\u001b[34m\u001b[1mwandb\u001b[0m: 🚀 View run at \u001b[34m\u001b[4mhttps://wandb.ai/inlpteam/huggingface/runs/icy428fe/workspace\u001b[0m\n"
     ]
    },
    {
     "data": {
      "text/html": [
       "\n",
       "    <div>\n",
       "      \n",
       "      <progress value='11052' max='55260' style='width:300px; height:20px; vertical-align: middle;'></progress>\n",
       "      [11052/55260 2:41:19 < 10:45:23, 1.14 it/s, Epoch 6/30]\n",
       "    </div>\n",
       "    <table border=\"1\" class=\"dataframe\">\n",
       "  <thead>\n",
       " <tr style=\"text-align: left;\">\n",
       "      <th>Epoch</th>\n",
       "      <th>Training Loss</th>\n",
       "      <th>Validation Loss</th>\n",
       "    </tr>\n",
       "  </thead>\n",
       "  <tbody>\n",
       "    <tr>\n",
       "      <td>1</td>\n",
       "      <td>0.035600</td>\n",
       "      <td>0.085172</td>\n",
       "    </tr>\n",
       "    <tr>\n",
       "      <td>2</td>\n",
       "      <td>0.020600</td>\n",
       "      <td>0.093150</td>\n",
       "    </tr>\n",
       "    <tr>\n",
       "      <td>3</td>\n",
       "      <td>0.011800</td>\n",
       "      <td>0.136792</td>\n",
       "    </tr>\n",
       "    <tr>\n",
       "      <td>4</td>\n",
       "      <td>0.009900</td>\n",
       "      <td>0.193200</td>\n",
       "    </tr>\n",
       "    <tr>\n",
       "      <td>5</td>\n",
       "      <td>0.007300</td>\n",
       "      <td>0.143474</td>\n",
       "    </tr>\n",
       "    <tr>\n",
       "      <td>6</td>\n",
       "      <td>0.004400</td>\n",
       "      <td>0.190010</td>\n",
       "    </tr>\n",
       "  </tbody>\n",
       "</table><p>"
      ],
      "text/plain": [
       "<IPython.core.display.HTML object>"
      ]
     },
     "metadata": {},
     "output_type": "display_data"
    },
    {
     "data": {
      "text/plain": [
       "('Results/Disease/ZeroShot/Tokenizer/tokenizer_config.json',\n",
       " 'Results/Disease/ZeroShot/Tokenizer/special_tokens_map.json',\n",
       " 'Results/Disease/ZeroShot/Tokenizer/vocab.txt',\n",
       " 'Results/Disease/ZeroShot/Tokenizer/added_tokens.json',\n",
       " 'Results/Disease/ZeroShot/Tokenizer/tokenizer.json')"
      ]
     },
     "execution_count": 49,
     "metadata": {},
     "output_type": "execute_result"
    }
   ],
   "source": [
    "import wandb\n",
    "from transformers import EarlyStoppingCallback\n",
    "\n",
    "wandb.login(key='dc8c78166e5a09fdf124196c16f5467b0bdd3e66')\n",
    "\n",
    "training_args = TrainingArguments(\n",
    "    output_dir='/content/Results' + class_unseen + 'ZeroShot',\n",
    "    num_train_epochs=30,\n",
    "    per_device_train_batch_size=16,\n",
    "    per_device_eval_batch_size=16,\n",
    "    weight_decay=0.01,\n",
    "    logging_dir='/content/Logs' + class_unseen + 'ZeroShot',\n",
    "    save_strategy='epoch',\n",
    "    evaluation_strategy='epoch',\n",
    "    load_best_model_at_end=True\n",
    ")\n",
    "\n",
    "device = torch.device(\"cuda\" if torch.cuda.is_available() else \"cpu\")\n",
    "model = BertForTokenClassification.from_pretrained(model_name, num_labels=2)\n",
    "model.to(device)\n",
    "\n",
    "early_stopping_callback = EarlyStoppingCallback(\n",
    "    early_stopping_patience=5,\n",
    "    early_stopping_threshold=0.0001\n",
    ")\n",
    "\n",
    "trainer = Trainer(\n",
    "    model=model,\n",
    "    args=training_args,\n",
    "    train_dataset=train0shot,\n",
    "    eval_dataset=valid_dataset,\n",
    "    callbacks=[early_stopping_callback],\n",
    ")\n",
    "\n",
    "start_time = time.time()\n",
    "trainer.train()\n",
    "total_time = time.time() - start_time\n",
    "\n",
    "model_path = os.path.join('Results', class_unseen, 'ZeroShot', 'Model')\n",
    "os.makedirs(model_path, exist_ok=True)\n",
    "model.save_pretrained(model_path)\n",
    "\n",
    "tokenizer_path = os.path.join('Results', class_unseen, 'ZeroShot', 'Tokenizer')\n",
    "os.makedirs(tokenizer_path, exist_ok=True)\n",
    "tokenizer.save_pretrained(tokenizer_path)"
   ]
  },
  {
   "cell_type": "code",
   "execution_count": 50,
   "id": "b1baf677",
   "metadata": {
    "execution": {
     "iopub.execute_input": "2024-04-27T20:25:56.783420Z",
     "iopub.status.busy": "2024-04-27T20:25:56.782730Z",
     "iopub.status.idle": "2024-04-27T20:25:56.786537Z",
     "shell.execute_reply": "2024-04-27T20:25:56.785819Z"
    },
    "papermill": {
     "duration": 0.029294,
     "end_time": "2024-04-27T20:25:56.788358",
     "exception": false,
     "start_time": "2024-04-27T20:25:56.759064",
     "status": "completed"
    },
    "tags": []
   },
   "outputs": [],
   "source": [
    "del train0shot\n",
    "del valid_dataset"
   ]
  },
  {
   "cell_type": "code",
   "execution_count": 51,
   "id": "13e0f4ec",
   "metadata": {
    "execution": {
     "iopub.execute_input": "2024-04-27T20:25:56.834833Z",
     "iopub.status.busy": "2024-04-27T20:25:56.834361Z",
     "iopub.status.idle": "2024-04-27T20:25:57.769869Z",
     "shell.execute_reply": "2024-04-27T20:25:57.768985Z"
    },
    "papermill": {
     "duration": 0.960798,
     "end_time": "2024-04-27T20:25:57.771856",
     "exception": false,
     "start_time": "2024-04-27T20:25:56.811058",
     "status": "completed"
    },
    "tags": []
   },
   "outputs": [
    {
     "data": {
      "text/plain": [
       "186"
      ]
     },
     "execution_count": 51,
     "metadata": {},
     "output_type": "execute_result"
    }
   ],
   "source": [
    "gc.collect()"
   ]
  },
  {
   "cell_type": "code",
   "execution_count": 52,
   "id": "4fd1c456",
   "metadata": {
    "execution": {
     "iopub.execute_input": "2024-04-27T20:25:57.819915Z",
     "iopub.status.busy": "2024-04-27T20:25:57.819207Z",
     "iopub.status.idle": "2024-04-27T20:25:57.824129Z",
     "shell.execute_reply": "2024-04-27T20:25:57.823232Z"
    },
    "id": "4L5Y60ihSHEL",
    "papermill": {
     "duration": 0.030837,
     "end_time": "2024-04-27T20:25:57.826079",
     "exception": false,
     "start_time": "2024-04-27T20:25:57.795242",
     "status": "completed"
    },
    "tags": []
   },
   "outputs": [],
   "source": [
    "import torch\n",
    "import numpy as np\n",
    "import pandas as pd\n",
    "import pickle\n",
    "\n",
    "from transformers import Trainer, TrainingArguments, BertForTokenClassification  \n",
    "from sklearn.metrics import confusion_matrix, f1_score, accuracy_score,recall_score,precision_score"
   ]
  },
  {
   "cell_type": "code",
   "execution_count": 53,
   "id": "38c4b65d",
   "metadata": {
    "execution": {
     "iopub.execute_input": "2024-04-27T20:25:57.873608Z",
     "iopub.status.busy": "2024-04-27T20:25:57.872989Z",
     "iopub.status.idle": "2024-04-27T20:25:57.879002Z",
     "shell.execute_reply": "2024-04-27T20:25:57.878139Z"
    },
    "papermill": {
     "duration": 0.03178,
     "end_time": "2024-04-27T20:25:57.880899",
     "exception": false,
     "start_time": "2024-04-27T20:25:57.849119",
     "status": "completed"
    },
    "tags": []
   },
   "outputs": [
    {
     "name": "stdout",
     "output_type": "stream",
     "text": [
      "Folder 'DatasetsX' created successfully.\n"
     ]
    }
   ],
   "source": [
    "folder_path = \"/kaggle/working/DatasetsX\"\n",
    "\n",
    "if not os.path.exists(folder_path):\n",
    "    os.makedirs(folder_path)\n",
    "    print(\"Folder 'DatasetsX' created successfully.\")\n",
    "else:\n",
    "    print(\"Folder 'DatasetsX' already exists.\")"
   ]
  },
  {
   "cell_type": "code",
   "execution_count": 54,
   "id": "21be307d",
   "metadata": {
    "execution": {
     "iopub.execute_input": "2024-04-27T20:25:57.927798Z",
     "iopub.status.busy": "2024-04-27T20:25:57.927266Z",
     "iopub.status.idle": "2024-04-27T20:25:57.935913Z",
     "shell.execute_reply": "2024-04-27T20:25:57.935241Z"
    },
    "papermill": {
     "duration": 0.034052,
     "end_time": "2024-04-27T20:25:57.937711",
     "exception": false,
     "start_time": "2024-04-27T20:25:57.903659",
     "status": "completed"
    },
    "tags": []
   },
   "outputs": [],
   "source": [
    "def load_from_pickle(pickle_name):\n",
    "    with open(pickle_name, 'rb') as fh:\n",
    "        unpickled_object = pickle.load(fh)\n",
    "    return unpickled_object   \n",
    "\n",
    "\n",
    "def dump_to_pickle(data_set, file_name, class_name=None):\n",
    "    if class_name == None:\n",
    "        folders = os.path.join('DatasetsX')\n",
    "    else:\n",
    "        folders = os.path.join('DatasetsX', class_name)\n",
    "    os.makedirs(folders, exist_ok=True)\n",
    "    filename = file_name+'.pkl'\n",
    "    file_path = os.path.join(folders, filename)\n",
    "    outfile = open(file_path,'wb')\n",
    "    pickle.dump(data_set,outfile, protocol=4)\n",
    "\n",
    "    \n",
    "class u_Dataset(torch.utils.data.Dataset):\n",
    "    def __init__(self, encodings, labels):\n",
    "        self.encodings = encodings\n",
    "        self.labels = labels\n",
    "\n",
    "    def __getitem__(self, idx):\n",
    "        item = {key: torch.tensor(val[idx]) for key, val in self.encodings.items()}\n",
    "        item['labels'] = torch.tensor(self.labels[idx])\n",
    "        return item\n",
    "\n",
    "    def __len__(self):\n",
    "        return len(self.labels)"
   ]
  },
  {
   "cell_type": "code",
   "execution_count": 55,
   "id": "ea5e9880",
   "metadata": {
    "execution": {
     "iopub.execute_input": "2024-04-27T20:25:57.984295Z",
     "iopub.status.busy": "2024-04-27T20:25:57.984013Z",
     "iopub.status.idle": "2024-04-27T20:25:57.990354Z",
     "shell.execute_reply": "2024-04-27T20:25:57.989545Z"
    },
    "papermill": {
     "duration": 0.031636,
     "end_time": "2024-04-27T20:25:57.992110",
     "exception": false,
     "start_time": "2024-04-27T20:25:57.960474",
     "status": "completed"
    },
    "tags": []
   },
   "outputs": [],
   "source": [
    "\n",
    "indexes_test = list(df_test.index[df_test['klasa']=='Disease'])\n",
    "dataset_withOne_test = Subset(dataset_test, indexes_test)\n"
   ]
  },
  {
   "cell_type": "code",
   "execution_count": 56,
   "id": "0fd69a72",
   "metadata": {
    "execution": {
     "iopub.execute_input": "2024-04-27T20:25:58.038660Z",
     "iopub.status.busy": "2024-04-27T20:25:58.038395Z",
     "iopub.status.idle": "2024-04-27T20:25:58.950215Z",
     "shell.execute_reply": "2024-04-27T20:25:58.949301Z"
    },
    "papermill": {
     "duration": 0.937224,
     "end_time": "2024-04-27T20:25:58.952013",
     "exception": false,
     "start_time": "2024-04-27T20:25:58.014789",
     "status": "completed"
    },
    "tags": []
   },
   "outputs": [
    {
     "data": {
      "text/plain": [
       "0"
      ]
     },
     "execution_count": 56,
     "metadata": {},
     "output_type": "execute_result"
    }
   ],
   "source": [
    "gc.collect()"
   ]
  },
  {
   "cell_type": "code",
   "execution_count": 57,
   "id": "c0923195",
   "metadata": {
    "execution": {
     "iopub.execute_input": "2024-04-27T20:25:59.000462Z",
     "iopub.status.busy": "2024-04-27T20:25:58.999666Z",
     "iopub.status.idle": "2024-04-27T20:25:59.056009Z",
     "shell.execute_reply": "2024-04-27T20:25:59.055305Z"
    },
    "papermill": {
     "duration": 0.082298,
     "end_time": "2024-04-27T20:25:59.058011",
     "exception": false,
     "start_time": "2024-04-27T20:25:58.975713",
     "status": "completed"
    },
    "tags": []
   },
   "outputs": [],
   "source": [
    "lst_indexes_FewShot_test = list(df_test.index[(df_test['klasa']=='Disease') & (df_test['labels'].apply(lambda lst : sum(lst))>0)])\n",
    "indexes_UnseenClass_test = random.choices(lst_indexes_FewShot_test, k=1000)\n",
    "dataset_UnseenClass_test = df_test.loc[indexes_UnseenClass_test]\n"
   ]
  },
  {
   "cell_type": "code",
   "execution_count": 58,
   "id": "53d18722",
   "metadata": {
    "execution": {
     "iopub.execute_input": "2024-04-27T20:25:59.105164Z",
     "iopub.status.busy": "2024-04-27T20:25:59.104872Z",
     "iopub.status.idle": "2024-04-27T20:26:00.069130Z",
     "shell.execute_reply": "2024-04-27T20:26:00.068152Z"
    },
    "papermill": {
     "duration": 0.990124,
     "end_time": "2024-04-27T20:26:00.071178",
     "exception": false,
     "start_time": "2024-04-27T20:25:59.081054",
     "status": "completed"
    },
    "tags": []
   },
   "outputs": [
    {
     "data": {
      "text/plain": [
       "0"
      ]
     },
     "execution_count": 58,
     "metadata": {},
     "output_type": "execute_result"
    }
   ],
   "source": [
    "gc.collect()"
   ]
  },
  {
   "cell_type": "code",
   "execution_count": 59,
   "id": "a60e241d",
   "metadata": {
    "execution": {
     "iopub.execute_input": "2024-04-27T20:26:00.119535Z",
     "iopub.status.busy": "2024-04-27T20:26:00.119244Z",
     "iopub.status.idle": "2024-04-27T20:26:32.109255Z",
     "shell.execute_reply": "2024-04-27T20:26:32.108362Z"
    },
    "papermill": {
     "duration": 32.016627,
     "end_time": "2024-04-27T20:26:32.111597",
     "exception": false,
     "start_time": "2024-04-27T20:26:00.094970",
     "status": "completed"
    },
    "tags": []
   },
   "outputs": [
    {
     "data": {
      "text/html": [],
      "text/plain": [
       "<IPython.core.display.HTML object>"
      ]
     },
     "metadata": {},
     "output_type": "display_data"
    },
    {
     "name": "stdout",
     "output_type": "stream",
     "text": [
      "\n",
      "Confusion Matrix:\n",
      "[[17493  3554]\n",
      " [ 1972   503]]\n",
      "Statistics:\n",
      "      Metric     Value\n",
      "0   Accuracy  0.765071\n",
      "1  Precision  0.817175\n",
      "2     Recall  0.765071\n",
      "3         F1  0.788933\n"
     ]
    }
   ],
   "source": [
    "import torch\n",
    "import numpy as np\n",
    "import pandas as pd\n",
    "import pickle\n",
    "\n",
    "from transformers import Trainer, TrainingArguments, BertForTokenClassification\n",
    "from sklearn.metrics import confusion_matrix, f1_score, accuracy_score, recall_score, precision_score\n",
    "def testing1(test_set_path, model_path, df_test_path):\n",
    "    testset = test_set_path\n",
    "    df_test = df_test_path\n",
    "\n",
    "    model = BertForTokenClassification.from_pretrained(model_path, num_labels=2)\n",
    "    args = TrainingArguments(output_dir='./evaldir', per_device_eval_batch_size=16)\n",
    "\n",
    "    evaler = Trainer(\n",
    "        args=args,\n",
    "        model=model\n",
    "    )\n",
    "\n",
    "    pred=evaler.predict(testset)\n",
    "    test_indexs_new=df_test.index.to_list()\n",
    "    wids=np.array([testset.dataset.encodings.encodings[ii].word_ids for ii in test_indexs_new])\n",
    "    wids[wids==None]=-1\n",
    "    wids=wids.astype(int)\n",
    "\n",
    "    type_ids=np.array([testset.dataset.encodings.encodings[ii].type_ids for ii in test_indexs_new],dtype=bool)\n",
    "    pre=pred[0].argmax(axis=-1)\n",
    "    pre_list=[]\n",
    "    test_list=[]\n",
    "    for ii in range(wids.shape[0]):\n",
    "        test_list.append(wids[ii][type_ids[ii]])\n",
    "        pre_list.append(pre[ii][type_ids[ii]])\n",
    "\n",
    "    labels=[]\n",
    "    for ii in range(len(pre_list)):\n",
    "        labels.append(np.array(range(test_list[ii].max()+1)))\n",
    "        for jj in labels[ii]:\n",
    "            bb=np.where(test_list[ii]==jj)[0]\n",
    "            labela=np.array(pre_list[ii])[bb].mean()\n",
    "            if labela>0.01:\n",
    "                labels[ii][jj]=1\n",
    "            else:\n",
    "                labels[ii][jj]=0\n",
    "\n",
    "    labels_original=list(df_test.iloc[:]['labels'])\n",
    "    lab=np.array([])       # predicted labels\n",
    "    labor=np.array([])     # true labels labels\n",
    "    for ii in range(len(labels)):\n",
    "        if len(labels[ii])==len(labels_original[ii]):\n",
    "            lab=np.concatenate((lab,labels[ii]))\n",
    "            labor=np.concatenate((labor,labels_original[ii]))\n",
    "\n",
    "    accuracy = accuracy_score(labor, lab, normalize=True)\n",
    "    precision = precision_score(labor, lab, average='weighted')\n",
    "    recall = recall_score(labor, lab, average='weighted')\n",
    "    f1 = f1_score(labor, lab, average='weighted')\n",
    "    matrix = confusion_matrix(labor, lab)\n",
    "\n",
    "    # Statistics in a proper tabular form\n",
    "    statistics = pd.DataFrame({\n",
    "        'Metric': ['Accuracy', 'Precision', 'Recall', 'F1'],\n",
    "        'Value': [accuracy, precision, recall, f1]\n",
    "    })\n",
    "\n",
    "    # Print out confusion matrix\n",
    "    print(\"\\nConfusion Matrix:\")\n",
    "    print(matrix)\n",
    "\n",
    "    return statistics\n",
    "\n",
    "model_path = '/kaggle/working/Results/Disease/ZeroShot/Model'\n",
    "test_set_path = dataset_withOne_test\n",
    "df_test_path = dataset_UnseenClass_test\n",
    "statistics = testing1(test_set_path, model_path, df_test_path)\n",
    "\n",
    "# Print out statistics\n",
    "print(\"Statistics:\")\n",
    "print(statistics)"
   ]
  },
  {
   "cell_type": "code",
   "execution_count": null,
   "id": "0d6d9578",
   "metadata": {
    "papermill": {
     "duration": 0.023409,
     "end_time": "2024-04-27T20:26:32.160028",
     "exception": false,
     "start_time": "2024-04-27T20:26:32.136619",
     "status": "completed"
    },
    "tags": []
   },
   "outputs": [],
   "source": []
  },
  {
   "cell_type": "code",
   "execution_count": null,
   "id": "423804f5",
   "metadata": {
    "papermill": {
     "duration": 0.023058,
     "end_time": "2024-04-27T20:26:32.206415",
     "exception": false,
     "start_time": "2024-04-27T20:26:32.183357",
     "status": "completed"
    },
    "tags": []
   },
   "outputs": [],
   "source": []
  },
  {
   "cell_type": "code",
   "execution_count": null,
   "id": "1194b1fe",
   "metadata": {
    "papermill": {
     "duration": 0.023196,
     "end_time": "2024-04-27T20:26:32.252920",
     "exception": false,
     "start_time": "2024-04-27T20:26:32.229724",
     "status": "completed"
    },
    "tags": []
   },
   "outputs": [],
   "source": []
  }
 ],
 "metadata": {
  "colab": {
   "provenance": []
  },
  "kaggle": {
   "accelerator": "gpu",
   "dataSources": [
    {
     "datasetId": 4772680,
     "sourceId": 8085250,
     "sourceType": "datasetVersion"
    }
   ],
   "dockerImageVersionId": 30683,
   "isGpuEnabled": true,
   "isInternetEnabled": true,
   "language": "python",
   "sourceType": "notebook"
  },
  "kernelspec": {
   "display_name": "Python 3",
   "language": "python",
   "name": "python3"
  },
  "language_info": {
   "codemirror_mode": {
    "name": "ipython",
    "version": 3
   },
   "file_extension": ".py",
   "mimetype": "text/x-python",
   "name": "python",
   "nbconvert_exporter": "python",
   "pygments_lexer": "ipython3",
   "version": "3.10.13"
  },
  "papermill": {
   "default_parameters": {},
   "duration": 9839.203444,
   "end_time": "2024-04-27T20:26:35.218890",
   "environment_variables": {},
   "exception": null,
   "input_path": "__notebook__.ipynb",
   "output_path": "__notebook__.ipynb",
   "parameters": {},
   "start_time": "2024-04-27T17:42:36.015446",
   "version": "2.5.0"
  },
  "widgets": {
   "application/vnd.jupyter.widget-state+json": {
    "state": {
     "0316dc0e03ee465fa9b68c238bcd78dc": {
      "model_module": "@jupyter-widgets/controls",
      "model_module_version": "1.5.0",
      "model_name": "HTMLModel",
      "state": {
       "_dom_classes": [],
       "_model_module": "@jupyter-widgets/controls",
       "_model_module_version": "1.5.0",
       "_model_name": "HTMLModel",
       "_view_count": null,
       "_view_module": "@jupyter-widgets/controls",
       "_view_module_version": "1.5.0",
       "_view_name": "HTMLView",
       "description": "",
       "description_tooltip": null,
       "layout": "IPY_MODEL_199edc230f884263be8d9221d575fbfb",
       "placeholder": "​",
       "style": "IPY_MODEL_ad8796463c53415580517131ad662c05",
       "value": "pytorch_model.bin: 100%"
      }
     },
     "036b8afe352d471f9c801c53bb292fe5": {
      "model_module": "@jupyter-widgets/base",
      "model_module_version": "1.2.0",
      "model_name": "LayoutModel",
      "state": {
       "_model_module": "@jupyter-widgets/base",
       "_model_module_version": "1.2.0",
       "_model_name": "LayoutModel",
       "_view_count": null,
       "_view_module": "@jupyter-widgets/base",
       "_view_module_version": "1.2.0",
       "_view_name": "LayoutView",
       "align_content": null,
       "align_items": null,
       "align_self": null,
       "border": null,
       "bottom": null,
       "display": null,
       "flex": null,
       "flex_flow": null,
       "grid_area": null,
       "grid_auto_columns": null,
       "grid_auto_flow": null,
       "grid_auto_rows": null,
       "grid_column": null,
       "grid_gap": null,
       "grid_row": null,
       "grid_template_areas": null,
       "grid_template_columns": null,
       "grid_template_rows": null,
       "height": null,
       "justify_content": null,
       "justify_items": null,
       "left": null,
       "margin": null,
       "max_height": null,
       "max_width": null,
       "min_height": null,
       "min_width": null,
       "object_fit": null,
       "object_position": null,
       "order": null,
       "overflow": null,
       "overflow_x": null,
       "overflow_y": null,
       "padding": null,
       "right": null,
       "top": null,
       "visibility": null,
       "width": null
      }
     },
     "08268fd1794e48fbbbe1b6c3e4a363bd": {
      "model_module": "@jupyter-widgets/controls",
      "model_module_version": "1.5.0",
      "model_name": "HTMLModel",
      "state": {
       "_dom_classes": [],
       "_model_module": "@jupyter-widgets/controls",
       "_model_module_version": "1.5.0",
       "_model_name": "HTMLModel",
       "_view_count": null,
       "_view_module": "@jupyter-widgets/controls",
       "_view_module_version": "1.5.0",
       "_view_name": "HTMLView",
       "description": "",
       "description_tooltip": null,
       "layout": "IPY_MODEL_241ad594b07c47cebf32298c78374e98",
       "placeholder": "​",
       "style": "IPY_MODEL_59b9b89598cc4a56aac1a7dc647bf796",
       "value": "config.json: 100%"
      }
     },
     "093cbaf07898465ebb861eceaf432257": {
      "model_module": "@jupyter-widgets/controls",
      "model_module_version": "1.5.0",
      "model_name": "DescriptionStyleModel",
      "state": {
       "_model_module": "@jupyter-widgets/controls",
       "_model_module_version": "1.5.0",
       "_model_name": "DescriptionStyleModel",
       "_view_count": null,
       "_view_module": "@jupyter-widgets/base",
       "_view_module_version": "1.2.0",
       "_view_name": "StyleView",
       "description_width": ""
      }
     },
     "0a2afa626ab04dd5956a17923be81f6f": {
      "model_module": "@jupyter-widgets/base",
      "model_module_version": "1.2.0",
      "model_name": "LayoutModel",
      "state": {
       "_model_module": "@jupyter-widgets/base",
       "_model_module_version": "1.2.0",
       "_model_name": "LayoutModel",
       "_view_count": null,
       "_view_module": "@jupyter-widgets/base",
       "_view_module_version": "1.2.0",
       "_view_name": "LayoutView",
       "align_content": null,
       "align_items": null,
       "align_self": null,
       "border": null,
       "bottom": null,
       "display": null,
       "flex": null,
       "flex_flow": null,
       "grid_area": null,
       "grid_auto_columns": null,
       "grid_auto_flow": null,
       "grid_auto_rows": null,
       "grid_column": null,
       "grid_gap": null,
       "grid_row": null,
       "grid_template_areas": null,
       "grid_template_columns": null,
       "grid_template_rows": null,
       "height": null,
       "justify_content": null,
       "justify_items": null,
       "left": null,
       "margin": null,
       "max_height": null,
       "max_width": null,
       "min_height": null,
       "min_width": null,
       "object_fit": null,
       "object_position": null,
       "order": null,
       "overflow": null,
       "overflow_x": null,
       "overflow_y": null,
       "padding": null,
       "right": null,
       "top": null,
       "visibility": null,
       "width": null
      }
     },
     "0c30d3f0e3f74deb9189b97cdca2f115": {
      "model_module": "@jupyter-widgets/controls",
      "model_module_version": "1.5.0",
      "model_name": "DescriptionStyleModel",
      "state": {
       "_model_module": "@jupyter-widgets/controls",
       "_model_module_version": "1.5.0",
       "_model_name": "DescriptionStyleModel",
       "_view_count": null,
       "_view_module": "@jupyter-widgets/base",
       "_view_module_version": "1.2.0",
       "_view_name": "StyleView",
       "description_width": ""
      }
     },
     "18329e166ef24067a48475fa66bee361": {
      "model_module": "@jupyter-widgets/controls",
      "model_module_version": "1.5.0",
      "model_name": "HTMLModel",
      "state": {
       "_dom_classes": [],
       "_model_module": "@jupyter-widgets/controls",
       "_model_module_version": "1.5.0",
       "_model_name": "HTMLModel",
       "_view_count": null,
       "_view_module": "@jupyter-widgets/controls",
       "_view_module_version": "1.5.0",
       "_view_name": "HTMLView",
       "description": "",
       "description_tooltip": null,
       "layout": "IPY_MODEL_3c9256a6f2b84a8eaa5ecf7633c875af",
       "placeholder": "​",
       "style": "IPY_MODEL_7cb36cdcf1de4a9f946756e8d166193a",
       "value": " 462/462 [00:00&lt;00:00, 43.9kB/s]"
      }
     },
     "186ef9ac31bb4200b791163b9f6f4c3a": {
      "model_module": "@jupyter-widgets/controls",
      "model_module_version": "1.5.0",
      "model_name": "HBoxModel",
      "state": {
       "_dom_classes": [],
       "_model_module": "@jupyter-widgets/controls",
       "_model_module_version": "1.5.0",
       "_model_name": "HBoxModel",
       "_view_count": null,
       "_view_module": "@jupyter-widgets/controls",
       "_view_module_version": "1.5.0",
       "_view_name": "HBoxView",
       "box_style": "",
       "children": [
        "IPY_MODEL_08268fd1794e48fbbbe1b6c3e4a363bd",
        "IPY_MODEL_f198780e662f48ccbc2d0150e8237d1e",
        "IPY_MODEL_18329e166ef24067a48475fa66bee361"
       ],
       "layout": "IPY_MODEL_3db55e736f354b7a9e28fc4b1fa8c845"
      }
     },
     "199edc230f884263be8d9221d575fbfb": {
      "model_module": "@jupyter-widgets/base",
      "model_module_version": "1.2.0",
      "model_name": "LayoutModel",
      "state": {
       "_model_module": "@jupyter-widgets/base",
       "_model_module_version": "1.2.0",
       "_model_name": "LayoutModel",
       "_view_count": null,
       "_view_module": "@jupyter-widgets/base",
       "_view_module_version": "1.2.0",
       "_view_name": "LayoutView",
       "align_content": null,
       "align_items": null,
       "align_self": null,
       "border": null,
       "bottom": null,
       "display": null,
       "flex": null,
       "flex_flow": null,
       "grid_area": null,
       "grid_auto_columns": null,
       "grid_auto_flow": null,
       "grid_auto_rows": null,
       "grid_column": null,
       "grid_gap": null,
       "grid_row": null,
       "grid_template_areas": null,
       "grid_template_columns": null,
       "grid_template_rows": null,
       "height": null,
       "justify_content": null,
       "justify_items": null,
       "left": null,
       "margin": null,
       "max_height": null,
       "max_width": null,
       "min_height": null,
       "min_width": null,
       "object_fit": null,
       "object_position": null,
       "order": null,
       "overflow": null,
       "overflow_x": null,
       "overflow_y": null,
       "padding": null,
       "right": null,
       "top": null,
       "visibility": null,
       "width": null
      }
     },
     "1f314510980447d68670e5b7a95f5fcd": {
      "model_module": "@jupyter-widgets/base",
      "model_module_version": "1.2.0",
      "model_name": "LayoutModel",
      "state": {
       "_model_module": "@jupyter-widgets/base",
       "_model_module_version": "1.2.0",
       "_model_name": "LayoutModel",
       "_view_count": null,
       "_view_module": "@jupyter-widgets/base",
       "_view_module_version": "1.2.0",
       "_view_name": "LayoutView",
       "align_content": null,
       "align_items": null,
       "align_self": null,
       "border": null,
       "bottom": null,
       "display": null,
       "flex": null,
       "flex_flow": null,
       "grid_area": null,
       "grid_auto_columns": null,
       "grid_auto_flow": null,
       "grid_auto_rows": null,
       "grid_column": null,
       "grid_gap": null,
       "grid_row": null,
       "grid_template_areas": null,
       "grid_template_columns": null,
       "grid_template_rows": null,
       "height": null,
       "justify_content": null,
       "justify_items": null,
       "left": null,
       "margin": null,
       "max_height": null,
       "max_width": null,
       "min_height": null,
       "min_width": null,
       "object_fit": null,
       "object_position": null,
       "order": null,
       "overflow": null,
       "overflow_x": null,
       "overflow_y": null,
       "padding": null,
       "right": null,
       "top": null,
       "visibility": null,
       "width": null
      }
     },
     "22a9efb760244017b0fb8fd58e984a1a": {
      "model_module": "@jupyter-widgets/base",
      "model_module_version": "1.2.0",
      "model_name": "LayoutModel",
      "state": {
       "_model_module": "@jupyter-widgets/base",
       "_model_module_version": "1.2.0",
       "_model_name": "LayoutModel",
       "_view_count": null,
       "_view_module": "@jupyter-widgets/base",
       "_view_module_version": "1.2.0",
       "_view_name": "LayoutView",
       "align_content": null,
       "align_items": null,
       "align_self": null,
       "border": null,
       "bottom": null,
       "display": null,
       "flex": null,
       "flex_flow": null,
       "grid_area": null,
       "grid_auto_columns": null,
       "grid_auto_flow": null,
       "grid_auto_rows": null,
       "grid_column": null,
       "grid_gap": null,
       "grid_row": null,
       "grid_template_areas": null,
       "grid_template_columns": null,
       "grid_template_rows": null,
       "height": null,
       "justify_content": null,
       "justify_items": null,
       "left": null,
       "margin": null,
       "max_height": null,
       "max_width": null,
       "min_height": null,
       "min_width": null,
       "object_fit": null,
       "object_position": null,
       "order": null,
       "overflow": null,
       "overflow_x": null,
       "overflow_y": null,
       "padding": null,
       "right": null,
       "top": null,
       "visibility": null,
       "width": null
      }
     },
     "241ad594b07c47cebf32298c78374e98": {
      "model_module": "@jupyter-widgets/base",
      "model_module_version": "1.2.0",
      "model_name": "LayoutModel",
      "state": {
       "_model_module": "@jupyter-widgets/base",
       "_model_module_version": "1.2.0",
       "_model_name": "LayoutModel",
       "_view_count": null,
       "_view_module": "@jupyter-widgets/base",
       "_view_module_version": "1.2.0",
       "_view_name": "LayoutView",
       "align_content": null,
       "align_items": null,
       "align_self": null,
       "border": null,
       "bottom": null,
       "display": null,
       "flex": null,
       "flex_flow": null,
       "grid_area": null,
       "grid_auto_columns": null,
       "grid_auto_flow": null,
       "grid_auto_rows": null,
       "grid_column": null,
       "grid_gap": null,
       "grid_row": null,
       "grid_template_areas": null,
       "grid_template_columns": null,
       "grid_template_rows": null,
       "height": null,
       "justify_content": null,
       "justify_items": null,
       "left": null,
       "margin": null,
       "max_height": null,
       "max_width": null,
       "min_height": null,
       "min_width": null,
       "object_fit": null,
       "object_position": null,
       "order": null,
       "overflow": null,
       "overflow_x": null,
       "overflow_y": null,
       "padding": null,
       "right": null,
       "top": null,
       "visibility": null,
       "width": null
      }
     },
     "25dab1d34f1c4a15b8fb98e7705241ee": {
      "model_module": "@jupyter-widgets/base",
      "model_module_version": "1.2.0",
      "model_name": "LayoutModel",
      "state": {
       "_model_module": "@jupyter-widgets/base",
       "_model_module_version": "1.2.0",
       "_model_name": "LayoutModel",
       "_view_count": null,
       "_view_module": "@jupyter-widgets/base",
       "_view_module_version": "1.2.0",
       "_view_name": "LayoutView",
       "align_content": null,
       "align_items": null,
       "align_self": null,
       "border": null,
       "bottom": null,
       "display": null,
       "flex": null,
       "flex_flow": null,
       "grid_area": null,
       "grid_auto_columns": null,
       "grid_auto_flow": null,
       "grid_auto_rows": null,
       "grid_column": null,
       "grid_gap": null,
       "grid_row": null,
       "grid_template_areas": null,
       "grid_template_columns": null,
       "grid_template_rows": null,
       "height": null,
       "justify_content": null,
       "justify_items": null,
       "left": null,
       "margin": null,
       "max_height": null,
       "max_width": null,
       "min_height": null,
       "min_width": null,
       "object_fit": null,
       "object_position": null,
       "order": null,
       "overflow": null,
       "overflow_x": null,
       "overflow_y": null,
       "padding": null,
       "right": null,
       "top": null,
       "visibility": null,
       "width": null
      }
     },
     "264eaa14466341baa68684b330ab932b": {
      "model_module": "@jupyter-widgets/controls",
      "model_module_version": "1.5.0",
      "model_name": "HBoxModel",
      "state": {
       "_dom_classes": [],
       "_model_module": "@jupyter-widgets/controls",
       "_model_module_version": "1.5.0",
       "_model_name": "HBoxModel",
       "_view_count": null,
       "_view_module": "@jupyter-widgets/controls",
       "_view_module_version": "1.5.0",
       "_view_name": "HBoxView",
       "box_style": "",
       "children": [
        "IPY_MODEL_bc6b5ab09bdf4905aeb003e508964bf9",
        "IPY_MODEL_367509b49f7d4f7e8d642799e6372a22",
        "IPY_MODEL_de68364ecc244f1b963028ce1e2ef925"
       ],
       "layout": "IPY_MODEL_036b8afe352d471f9c801c53bb292fe5"
      }
     },
     "2c02f6010e5b44e697a758dafbeed7da": {
      "model_module": "@jupyter-widgets/controls",
      "model_module_version": "1.5.0",
      "model_name": "ProgressStyleModel",
      "state": {
       "_model_module": "@jupyter-widgets/controls",
       "_model_module_version": "1.5.0",
       "_model_name": "ProgressStyleModel",
       "_view_count": null,
       "_view_module": "@jupyter-widgets/base",
       "_view_module_version": "1.2.0",
       "_view_name": "StyleView",
       "bar_color": null,
       "description_width": ""
      }
     },
     "367509b49f7d4f7e8d642799e6372a22": {
      "model_module": "@jupyter-widgets/controls",
      "model_module_version": "1.5.0",
      "model_name": "FloatProgressModel",
      "state": {
       "_dom_classes": [],
       "_model_module": "@jupyter-widgets/controls",
       "_model_module_version": "1.5.0",
       "_model_name": "FloatProgressModel",
       "_view_count": null,
       "_view_module": "@jupyter-widgets/controls",
       "_view_module_version": "1.5.0",
       "_view_name": "ProgressView",
       "bar_style": "success",
       "description": "",
       "description_tooltip": null,
       "layout": "IPY_MODEL_22a9efb760244017b0fb8fd58e984a1a",
       "max": 49.0,
       "min": 0.0,
       "orientation": "horizontal",
       "style": "IPY_MODEL_88e6073b1e144583a74ba679fc16729e",
       "value": 49.0
      }
     },
     "3c9256a6f2b84a8eaa5ecf7633c875af": {
      "model_module": "@jupyter-widgets/base",
      "model_module_version": "1.2.0",
      "model_name": "LayoutModel",
      "state": {
       "_model_module": "@jupyter-widgets/base",
       "_model_module_version": "1.2.0",
       "_model_name": "LayoutModel",
       "_view_count": null,
       "_view_module": "@jupyter-widgets/base",
       "_view_module_version": "1.2.0",
       "_view_name": "LayoutView",
       "align_content": null,
       "align_items": null,
       "align_self": null,
       "border": null,
       "bottom": null,
       "display": null,
       "flex": null,
       "flex_flow": null,
       "grid_area": null,
       "grid_auto_columns": null,
       "grid_auto_flow": null,
       "grid_auto_rows": null,
       "grid_column": null,
       "grid_gap": null,
       "grid_row": null,
       "grid_template_areas": null,
       "grid_template_columns": null,
       "grid_template_rows": null,
       "height": null,
       "justify_content": null,
       "justify_items": null,
       "left": null,
       "margin": null,
       "max_height": null,
       "max_width": null,
       "min_height": null,
       "min_width": null,
       "object_fit": null,
       "object_position": null,
       "order": null,
       "overflow": null,
       "overflow_x": null,
       "overflow_y": null,
       "padding": null,
       "right": null,
       "top": null,
       "visibility": null,
       "width": null
      }
     },
     "3db55e736f354b7a9e28fc4b1fa8c845": {
      "model_module": "@jupyter-widgets/base",
      "model_module_version": "1.2.0",
      "model_name": "LayoutModel",
      "state": {
       "_model_module": "@jupyter-widgets/base",
       "_model_module_version": "1.2.0",
       "_model_name": "LayoutModel",
       "_view_count": null,
       "_view_module": "@jupyter-widgets/base",
       "_view_module_version": "1.2.0",
       "_view_name": "LayoutView",
       "align_content": null,
       "align_items": null,
       "align_self": null,
       "border": null,
       "bottom": null,
       "display": null,
       "flex": null,
       "flex_flow": null,
       "grid_area": null,
       "grid_auto_columns": null,
       "grid_auto_flow": null,
       "grid_auto_rows": null,
       "grid_column": null,
       "grid_gap": null,
       "grid_row": null,
       "grid_template_areas": null,
       "grid_template_columns": null,
       "grid_template_rows": null,
       "height": null,
       "justify_content": null,
       "justify_items": null,
       "left": null,
       "margin": null,
       "max_height": null,
       "max_width": null,
       "min_height": null,
       "min_width": null,
       "object_fit": null,
       "object_position": null,
       "order": null,
       "overflow": null,
       "overflow_x": null,
       "overflow_y": null,
       "padding": null,
       "right": null,
       "top": null,
       "visibility": null,
       "width": null
      }
     },
     "3fd914769e8f4603909c02b77066e161": {
      "model_module": "@jupyter-widgets/base",
      "model_module_version": "1.2.0",
      "model_name": "LayoutModel",
      "state": {
       "_model_module": "@jupyter-widgets/base",
       "_model_module_version": "1.2.0",
       "_model_name": "LayoutModel",
       "_view_count": null,
       "_view_module": "@jupyter-widgets/base",
       "_view_module_version": "1.2.0",
       "_view_name": "LayoutView",
       "align_content": null,
       "align_items": null,
       "align_self": null,
       "border": null,
       "bottom": null,
       "display": null,
       "flex": null,
       "flex_flow": null,
       "grid_area": null,
       "grid_auto_columns": null,
       "grid_auto_flow": null,
       "grid_auto_rows": null,
       "grid_column": null,
       "grid_gap": null,
       "grid_row": null,
       "grid_template_areas": null,
       "grid_template_columns": null,
       "grid_template_rows": null,
       "height": null,
       "justify_content": null,
       "justify_items": null,
       "left": null,
       "margin": null,
       "max_height": null,
       "max_width": null,
       "min_height": null,
       "min_width": null,
       "object_fit": null,
       "object_position": null,
       "order": null,
       "overflow": null,
       "overflow_x": null,
       "overflow_y": null,
       "padding": null,
       "right": null,
       "top": null,
       "visibility": null,
       "width": null
      }
     },
     "4280be0dd9cb4ab39105b086fd2f5f52": {
      "model_module": "@jupyter-widgets/base",
      "model_module_version": "1.2.0",
      "model_name": "LayoutModel",
      "state": {
       "_model_module": "@jupyter-widgets/base",
       "_model_module_version": "1.2.0",
       "_model_name": "LayoutModel",
       "_view_count": null,
       "_view_module": "@jupyter-widgets/base",
       "_view_module_version": "1.2.0",
       "_view_name": "LayoutView",
       "align_content": null,
       "align_items": null,
       "align_self": null,
       "border": null,
       "bottom": null,
       "display": null,
       "flex": null,
       "flex_flow": null,
       "grid_area": null,
       "grid_auto_columns": null,
       "grid_auto_flow": null,
       "grid_auto_rows": null,
       "grid_column": null,
       "grid_gap": null,
       "grid_row": null,
       "grid_template_areas": null,
       "grid_template_columns": null,
       "grid_template_rows": null,
       "height": null,
       "justify_content": null,
       "justify_items": null,
       "left": null,
       "margin": null,
       "max_height": null,
       "max_width": null,
       "min_height": null,
       "min_width": null,
       "object_fit": null,
       "object_position": null,
       "order": null,
       "overflow": null,
       "overflow_x": null,
       "overflow_y": null,
       "padding": null,
       "right": null,
       "top": null,
       "visibility": null,
       "width": null
      }
     },
     "46d3f4053af3446c95063db1c524646b": {
      "model_module": "@jupyter-widgets/controls",
      "model_module_version": "1.5.0",
      "model_name": "DescriptionStyleModel",
      "state": {
       "_model_module": "@jupyter-widgets/controls",
       "_model_module_version": "1.5.0",
       "_model_name": "DescriptionStyleModel",
       "_view_count": null,
       "_view_module": "@jupyter-widgets/base",
       "_view_module_version": "1.2.0",
       "_view_name": "StyleView",
       "description_width": ""
      }
     },
     "578b137a4eaf415891dc99137d2b3781": {
      "model_module": "@jupyter-widgets/controls",
      "model_module_version": "1.5.0",
      "model_name": "ProgressStyleModel",
      "state": {
       "_model_module": "@jupyter-widgets/controls",
       "_model_module_version": "1.5.0",
       "_model_name": "ProgressStyleModel",
       "_view_count": null,
       "_view_module": "@jupyter-widgets/base",
       "_view_module_version": "1.2.0",
       "_view_name": "StyleView",
       "bar_color": null,
       "description_width": ""
      }
     },
     "588e4882486c487d8a87c57d173dd0ad": {
      "model_module": "@jupyter-widgets/controls",
      "model_module_version": "1.5.0",
      "model_name": "DescriptionStyleModel",
      "state": {
       "_model_module": "@jupyter-widgets/controls",
       "_model_module_version": "1.5.0",
       "_model_name": "DescriptionStyleModel",
       "_view_count": null,
       "_view_module": "@jupyter-widgets/base",
       "_view_module_version": "1.2.0",
       "_view_name": "StyleView",
       "description_width": ""
      }
     },
     "59b9b89598cc4a56aac1a7dc647bf796": {
      "model_module": "@jupyter-widgets/controls",
      "model_module_version": "1.5.0",
      "model_name": "DescriptionStyleModel",
      "state": {
       "_model_module": "@jupyter-widgets/controls",
       "_model_module_version": "1.5.0",
       "_model_name": "DescriptionStyleModel",
       "_view_count": null,
       "_view_module": "@jupyter-widgets/base",
       "_view_module_version": "1.2.0",
       "_view_name": "StyleView",
       "description_width": ""
      }
     },
     "75ac4492380b46ea92900a6df03bd1b6": {
      "model_module": "@jupyter-widgets/base",
      "model_module_version": "1.2.0",
      "model_name": "LayoutModel",
      "state": {
       "_model_module": "@jupyter-widgets/base",
       "_model_module_version": "1.2.0",
       "_model_name": "LayoutModel",
       "_view_count": null,
       "_view_module": "@jupyter-widgets/base",
       "_view_module_version": "1.2.0",
       "_view_name": "LayoutView",
       "align_content": null,
       "align_items": null,
       "align_self": null,
       "border": null,
       "bottom": null,
       "display": null,
       "flex": null,
       "flex_flow": null,
       "grid_area": null,
       "grid_auto_columns": null,
       "grid_auto_flow": null,
       "grid_auto_rows": null,
       "grid_column": null,
       "grid_gap": null,
       "grid_row": null,
       "grid_template_areas": null,
       "grid_template_columns": null,
       "grid_template_rows": null,
       "height": null,
       "justify_content": null,
       "justify_items": null,
       "left": null,
       "margin": null,
       "max_height": null,
       "max_width": null,
       "min_height": null,
       "min_width": null,
       "object_fit": null,
       "object_position": null,
       "order": null,
       "overflow": null,
       "overflow_x": null,
       "overflow_y": null,
       "padding": null,
       "right": null,
       "top": null,
       "visibility": null,
       "width": null
      }
     },
     "7b2721024c014287ab26970d510b132e": {
      "model_module": "@jupyter-widgets/base",
      "model_module_version": "1.2.0",
      "model_name": "LayoutModel",
      "state": {
       "_model_module": "@jupyter-widgets/base",
       "_model_module_version": "1.2.0",
       "_model_name": "LayoutModel",
       "_view_count": null,
       "_view_module": "@jupyter-widgets/base",
       "_view_module_version": "1.2.0",
       "_view_name": "LayoutView",
       "align_content": null,
       "align_items": null,
       "align_self": null,
       "border": null,
       "bottom": null,
       "display": null,
       "flex": null,
       "flex_flow": null,
       "grid_area": null,
       "grid_auto_columns": null,
       "grid_auto_flow": null,
       "grid_auto_rows": null,
       "grid_column": null,
       "grid_gap": null,
       "grid_row": null,
       "grid_template_areas": null,
       "grid_template_columns": null,
       "grid_template_rows": null,
       "height": null,
       "justify_content": null,
       "justify_items": null,
       "left": null,
       "margin": null,
       "max_height": null,
       "max_width": null,
       "min_height": null,
       "min_width": null,
       "object_fit": null,
       "object_position": null,
       "order": null,
       "overflow": null,
       "overflow_x": null,
       "overflow_y": null,
       "padding": null,
       "right": null,
       "top": null,
       "visibility": null,
       "width": null
      }
     },
     "7cb36cdcf1de4a9f946756e8d166193a": {
      "model_module": "@jupyter-widgets/controls",
      "model_module_version": "1.5.0",
      "model_name": "DescriptionStyleModel",
      "state": {
       "_model_module": "@jupyter-widgets/controls",
       "_model_module_version": "1.5.0",
       "_model_name": "DescriptionStyleModel",
       "_view_count": null,
       "_view_module": "@jupyter-widgets/base",
       "_view_module_version": "1.2.0",
       "_view_name": "StyleView",
       "description_width": ""
      }
     },
     "8101deb2eb1c4d7ea96b3f96b80bec44": {
      "model_module": "@jupyter-widgets/controls",
      "model_module_version": "1.5.0",
      "model_name": "HTMLModel",
      "state": {
       "_dom_classes": [],
       "_model_module": "@jupyter-widgets/controls",
       "_model_module_version": "1.5.0",
       "_model_name": "HTMLModel",
       "_view_count": null,
       "_view_module": "@jupyter-widgets/controls",
       "_view_module_version": "1.5.0",
       "_view_name": "HTMLView",
       "description": "",
       "description_tooltip": null,
       "layout": "IPY_MODEL_ef038a0d4ffc41bf99bd5db96c570333",
       "placeholder": "​",
       "style": "IPY_MODEL_9589f5a725ac463b825392c23feb6443",
       "value": " 213k/213k [00:00&lt;00:00, 2.04MB/s]"
      }
     },
     "88e6073b1e144583a74ba679fc16729e": {
      "model_module": "@jupyter-widgets/controls",
      "model_module_version": "1.5.0",
      "model_name": "ProgressStyleModel",
      "state": {
       "_model_module": "@jupyter-widgets/controls",
       "_model_module_version": "1.5.0",
       "_model_name": "ProgressStyleModel",
       "_view_count": null,
       "_view_module": "@jupyter-widgets/base",
       "_view_module_version": "1.2.0",
       "_view_name": "StyleView",
       "bar_color": null,
       "description_width": ""
      }
     },
     "8eba584bf43c45d0b2bef27250d2e6ab": {
      "model_module": "@jupyter-widgets/base",
      "model_module_version": "1.2.0",
      "model_name": "LayoutModel",
      "state": {
       "_model_module": "@jupyter-widgets/base",
       "_model_module_version": "1.2.0",
       "_model_name": "LayoutModel",
       "_view_count": null,
       "_view_module": "@jupyter-widgets/base",
       "_view_module_version": "1.2.0",
       "_view_name": "LayoutView",
       "align_content": null,
       "align_items": null,
       "align_self": null,
       "border": null,
       "bottom": null,
       "display": null,
       "flex": null,
       "flex_flow": null,
       "grid_area": null,
       "grid_auto_columns": null,
       "grid_auto_flow": null,
       "grid_auto_rows": null,
       "grid_column": null,
       "grid_gap": null,
       "grid_row": null,
       "grid_template_areas": null,
       "grid_template_columns": null,
       "grid_template_rows": null,
       "height": null,
       "justify_content": null,
       "justify_items": null,
       "left": null,
       "margin": null,
       "max_height": null,
       "max_width": null,
       "min_height": null,
       "min_width": null,
       "object_fit": null,
       "object_position": null,
       "order": null,
       "overflow": null,
       "overflow_x": null,
       "overflow_y": null,
       "padding": null,
       "right": null,
       "top": null,
       "visibility": null,
       "width": null
      }
     },
     "9243a4951282437481de720a3697cbf2": {
      "model_module": "@jupyter-widgets/controls",
      "model_module_version": "1.5.0",
      "model_name": "FloatProgressModel",
      "state": {
       "_dom_classes": [],
       "_model_module": "@jupyter-widgets/controls",
       "_model_module_version": "1.5.0",
       "_model_name": "FloatProgressModel",
       "_view_count": null,
       "_view_module": "@jupyter-widgets/controls",
       "_view_module_version": "1.5.0",
       "_view_name": "ProgressView",
       "bar_style": "success",
       "description": "",
       "description_tooltip": null,
       "layout": "IPY_MODEL_4280be0dd9cb4ab39105b086fd2f5f52",
       "max": 112.0,
       "min": 0.0,
       "orientation": "horizontal",
       "style": "IPY_MODEL_9a59b9895b1643778311ae6888efc54c",
       "value": 112.0
      }
     },
     "94676c162013484b8f8281ea64e6d684": {
      "model_module": "@jupyter-widgets/controls",
      "model_module_version": "1.5.0",
      "model_name": "ProgressStyleModel",
      "state": {
       "_model_module": "@jupyter-widgets/controls",
       "_model_module_version": "1.5.0",
       "_model_name": "ProgressStyleModel",
       "_view_count": null,
       "_view_module": "@jupyter-widgets/base",
       "_view_module_version": "1.2.0",
       "_view_name": "StyleView",
       "bar_color": null,
       "description_width": ""
      }
     },
     "9589f5a725ac463b825392c23feb6443": {
      "model_module": "@jupyter-widgets/controls",
      "model_module_version": "1.5.0",
      "model_name": "DescriptionStyleModel",
      "state": {
       "_model_module": "@jupyter-widgets/controls",
       "_model_module_version": "1.5.0",
       "_model_name": "DescriptionStyleModel",
       "_view_count": null,
       "_view_module": "@jupyter-widgets/base",
       "_view_module_version": "1.2.0",
       "_view_name": "StyleView",
       "description_width": ""
      }
     },
     "95f990c08e0040f1b205fe81af403c6b": {
      "model_module": "@jupyter-widgets/controls",
      "model_module_version": "1.5.0",
      "model_name": "HTMLModel",
      "state": {
       "_dom_classes": [],
       "_model_module": "@jupyter-widgets/controls",
       "_model_module_version": "1.5.0",
       "_model_name": "HTMLModel",
       "_view_count": null,
       "_view_module": "@jupyter-widgets/controls",
       "_view_module_version": "1.5.0",
       "_view_name": "HTMLView",
       "description": "",
       "description_tooltip": null,
       "layout": "IPY_MODEL_7b2721024c014287ab26970d510b132e",
       "placeholder": "​",
       "style": "IPY_MODEL_d4e5b36219da4e77bad28249628fe401",
       "value": " 433M/433M [00:01&lt;00:00, 318MB/s]"
      }
     },
     "9a59b9895b1643778311ae6888efc54c": {
      "model_module": "@jupyter-widgets/controls",
      "model_module_version": "1.5.0",
      "model_name": "ProgressStyleModel",
      "state": {
       "_model_module": "@jupyter-widgets/controls",
       "_model_module_version": "1.5.0",
       "_model_name": "ProgressStyleModel",
       "_view_count": null,
       "_view_module": "@jupyter-widgets/base",
       "_view_module_version": "1.2.0",
       "_view_name": "StyleView",
       "bar_color": null,
       "description_width": ""
      }
     },
     "a34778e20c544a4c8d41125d368aa67d": {
      "model_module": "@jupyter-widgets/controls",
      "model_module_version": "1.5.0",
      "model_name": "FloatProgressModel",
      "state": {
       "_dom_classes": [],
       "_model_module": "@jupyter-widgets/controls",
       "_model_module_version": "1.5.0",
       "_model_name": "FloatProgressModel",
       "_view_count": null,
       "_view_module": "@jupyter-widgets/controls",
       "_view_module_version": "1.5.0",
       "_view_name": "ProgressView",
       "bar_style": "success",
       "description": "",
       "description_tooltip": null,
       "layout": "IPY_MODEL_efad9d051a5e4fd4b4a1547e0cbfa29e",
       "max": 213450.0,
       "min": 0.0,
       "orientation": "horizontal",
       "style": "IPY_MODEL_578b137a4eaf415891dc99137d2b3781",
       "value": 213450.0
      }
     },
     "a3d5905a83454ed8aadff4b752bc06ed": {
      "model_module": "@jupyter-widgets/controls",
      "model_module_version": "1.5.0",
      "model_name": "HBoxModel",
      "state": {
       "_dom_classes": [],
       "_model_module": "@jupyter-widgets/controls",
       "_model_module_version": "1.5.0",
       "_model_name": "HBoxModel",
       "_view_count": null,
       "_view_module": "@jupyter-widgets/controls",
       "_view_module_version": "1.5.0",
       "_view_name": "HBoxView",
       "box_style": "",
       "children": [
        "IPY_MODEL_bcae44b284db4d9ca2538acc0913f1df",
        "IPY_MODEL_a34778e20c544a4c8d41125d368aa67d",
        "IPY_MODEL_8101deb2eb1c4d7ea96b3f96b80bec44"
       ],
       "layout": "IPY_MODEL_3fd914769e8f4603909c02b77066e161"
      }
     },
     "ad8796463c53415580517131ad662c05": {
      "model_module": "@jupyter-widgets/controls",
      "model_module_version": "1.5.0",
      "model_name": "DescriptionStyleModel",
      "state": {
       "_model_module": "@jupyter-widgets/controls",
       "_model_module_version": "1.5.0",
       "_model_name": "DescriptionStyleModel",
       "_view_count": null,
       "_view_module": "@jupyter-widgets/base",
       "_view_module_version": "1.2.0",
       "_view_name": "StyleView",
       "description_width": ""
      }
     },
     "b3df764f06714e3d8634fd2ce1b51986": {
      "model_module": "@jupyter-widgets/base",
      "model_module_version": "1.2.0",
      "model_name": "LayoutModel",
      "state": {
       "_model_module": "@jupyter-widgets/base",
       "_model_module_version": "1.2.0",
       "_model_name": "LayoutModel",
       "_view_count": null,
       "_view_module": "@jupyter-widgets/base",
       "_view_module_version": "1.2.0",
       "_view_name": "LayoutView",
       "align_content": null,
       "align_items": null,
       "align_self": null,
       "border": null,
       "bottom": null,
       "display": null,
       "flex": null,
       "flex_flow": null,
       "grid_area": null,
       "grid_auto_columns": null,
       "grid_auto_flow": null,
       "grid_auto_rows": null,
       "grid_column": null,
       "grid_gap": null,
       "grid_row": null,
       "grid_template_areas": null,
       "grid_template_columns": null,
       "grid_template_rows": null,
       "height": null,
       "justify_content": null,
       "justify_items": null,
       "left": null,
       "margin": null,
       "max_height": null,
       "max_width": null,
       "min_height": null,
       "min_width": null,
       "object_fit": null,
       "object_position": null,
       "order": null,
       "overflow": null,
       "overflow_x": null,
       "overflow_y": null,
       "padding": null,
       "right": null,
       "top": null,
       "visibility": null,
       "width": null
      }
     },
     "bc6b5ab09bdf4905aeb003e508964bf9": {
      "model_module": "@jupyter-widgets/controls",
      "model_module_version": "1.5.0",
      "model_name": "HTMLModel",
      "state": {
       "_dom_classes": [],
       "_model_module": "@jupyter-widgets/controls",
       "_model_module_version": "1.5.0",
       "_model_name": "HTMLModel",
       "_view_count": null,
       "_view_module": "@jupyter-widgets/controls",
       "_view_module_version": "1.5.0",
       "_view_name": "HTMLView",
       "description": "",
       "description_tooltip": null,
       "layout": "IPY_MODEL_1f314510980447d68670e5b7a95f5fcd",
       "placeholder": "​",
       "style": "IPY_MODEL_d77474fb9865476386abc8a5d899e8a2",
       "value": "tokenizer_config.json: 100%"
      }
     },
     "bcae44b284db4d9ca2538acc0913f1df": {
      "model_module": "@jupyter-widgets/controls",
      "model_module_version": "1.5.0",
      "model_name": "HTMLModel",
      "state": {
       "_dom_classes": [],
       "_model_module": "@jupyter-widgets/controls",
       "_model_module_version": "1.5.0",
       "_model_name": "HTMLModel",
       "_view_count": null,
       "_view_module": "@jupyter-widgets/controls",
       "_view_module_version": "1.5.0",
       "_view_name": "HTMLView",
       "description": "",
       "description_tooltip": null,
       "layout": "IPY_MODEL_dc385110ba2042268ea9dfb8161b5a40",
       "placeholder": "​",
       "style": "IPY_MODEL_588e4882486c487d8a87c57d173dd0ad",
       "value": "vocab.txt: 100%"
      }
     },
     "c0f8e850f40f4206b3167b93e99c1be1": {
      "model_module": "@jupyter-widgets/controls",
      "model_module_version": "1.5.0",
      "model_name": "FloatProgressModel",
      "state": {
       "_dom_classes": [],
       "_model_module": "@jupyter-widgets/controls",
       "_model_module_version": "1.5.0",
       "_model_name": "FloatProgressModel",
       "_view_count": null,
       "_view_module": "@jupyter-widgets/controls",
       "_view_module_version": "1.5.0",
       "_view_name": "ProgressView",
       "bar_style": "success",
       "description": "",
       "description_tooltip": null,
       "layout": "IPY_MODEL_b3df764f06714e3d8634fd2ce1b51986",
       "max": 433286112.0,
       "min": 0.0,
       "orientation": "horizontal",
       "style": "IPY_MODEL_2c02f6010e5b44e697a758dafbeed7da",
       "value": 433286112.0
      }
     },
     "c811a2d21d7a4102a2b6b1172c79f497": {
      "model_module": "@jupyter-widgets/base",
      "model_module_version": "1.2.0",
      "model_name": "LayoutModel",
      "state": {
       "_model_module": "@jupyter-widgets/base",
       "_model_module_version": "1.2.0",
       "_model_name": "LayoutModel",
       "_view_count": null,
       "_view_module": "@jupyter-widgets/base",
       "_view_module_version": "1.2.0",
       "_view_name": "LayoutView",
       "align_content": null,
       "align_items": null,
       "align_self": null,
       "border": null,
       "bottom": null,
       "display": null,
       "flex": null,
       "flex_flow": null,
       "grid_area": null,
       "grid_auto_columns": null,
       "grid_auto_flow": null,
       "grid_auto_rows": null,
       "grid_column": null,
       "grid_gap": null,
       "grid_row": null,
       "grid_template_areas": null,
       "grid_template_columns": null,
       "grid_template_rows": null,
       "height": null,
       "justify_content": null,
       "justify_items": null,
       "left": null,
       "margin": null,
       "max_height": null,
       "max_width": null,
       "min_height": null,
       "min_width": null,
       "object_fit": null,
       "object_position": null,
       "order": null,
       "overflow": null,
       "overflow_x": null,
       "overflow_y": null,
       "padding": null,
       "right": null,
       "top": null,
       "visibility": null,
       "width": null
      }
     },
     "d4e5b36219da4e77bad28249628fe401": {
      "model_module": "@jupyter-widgets/controls",
      "model_module_version": "1.5.0",
      "model_name": "DescriptionStyleModel",
      "state": {
       "_model_module": "@jupyter-widgets/controls",
       "_model_module_version": "1.5.0",
       "_model_name": "DescriptionStyleModel",
       "_view_count": null,
       "_view_module": "@jupyter-widgets/base",
       "_view_module_version": "1.2.0",
       "_view_name": "StyleView",
       "description_width": ""
      }
     },
     "d5c9f8c680ae4f058802b4bd84f53be4": {
      "model_module": "@jupyter-widgets/base",
      "model_module_version": "1.2.0",
      "model_name": "LayoutModel",
      "state": {
       "_model_module": "@jupyter-widgets/base",
       "_model_module_version": "1.2.0",
       "_model_name": "LayoutModel",
       "_view_count": null,
       "_view_module": "@jupyter-widgets/base",
       "_view_module_version": "1.2.0",
       "_view_name": "LayoutView",
       "align_content": null,
       "align_items": null,
       "align_self": null,
       "border": null,
       "bottom": null,
       "display": null,
       "flex": null,
       "flex_flow": null,
       "grid_area": null,
       "grid_auto_columns": null,
       "grid_auto_flow": null,
       "grid_auto_rows": null,
       "grid_column": null,
       "grid_gap": null,
       "grid_row": null,
       "grid_template_areas": null,
       "grid_template_columns": null,
       "grid_template_rows": null,
       "height": null,
       "justify_content": null,
       "justify_items": null,
       "left": null,
       "margin": null,
       "max_height": null,
       "max_width": null,
       "min_height": null,
       "min_width": null,
       "object_fit": null,
       "object_position": null,
       "order": null,
       "overflow": null,
       "overflow_x": null,
       "overflow_y": null,
       "padding": null,
       "right": null,
       "top": null,
       "visibility": null,
       "width": null
      }
     },
     "d77474fb9865476386abc8a5d899e8a2": {
      "model_module": "@jupyter-widgets/controls",
      "model_module_version": "1.5.0",
      "model_name": "DescriptionStyleModel",
      "state": {
       "_model_module": "@jupyter-widgets/controls",
       "_model_module_version": "1.5.0",
       "_model_name": "DescriptionStyleModel",
       "_view_count": null,
       "_view_module": "@jupyter-widgets/base",
       "_view_module_version": "1.2.0",
       "_view_name": "StyleView",
       "description_width": ""
      }
     },
     "dc385110ba2042268ea9dfb8161b5a40": {
      "model_module": "@jupyter-widgets/base",
      "model_module_version": "1.2.0",
      "model_name": "LayoutModel",
      "state": {
       "_model_module": "@jupyter-widgets/base",
       "_model_module_version": "1.2.0",
       "_model_name": "LayoutModel",
       "_view_count": null,
       "_view_module": "@jupyter-widgets/base",
       "_view_module_version": "1.2.0",
       "_view_name": "LayoutView",
       "align_content": null,
       "align_items": null,
       "align_self": null,
       "border": null,
       "bottom": null,
       "display": null,
       "flex": null,
       "flex_flow": null,
       "grid_area": null,
       "grid_auto_columns": null,
       "grid_auto_flow": null,
       "grid_auto_rows": null,
       "grid_column": null,
       "grid_gap": null,
       "grid_row": null,
       "grid_template_areas": null,
       "grid_template_columns": null,
       "grid_template_rows": null,
       "height": null,
       "justify_content": null,
       "justify_items": null,
       "left": null,
       "margin": null,
       "max_height": null,
       "max_width": null,
       "min_height": null,
       "min_width": null,
       "object_fit": null,
       "object_position": null,
       "order": null,
       "overflow": null,
       "overflow_x": null,
       "overflow_y": null,
       "padding": null,
       "right": null,
       "top": null,
       "visibility": null,
       "width": null
      }
     },
     "de68364ecc244f1b963028ce1e2ef925": {
      "model_module": "@jupyter-widgets/controls",
      "model_module_version": "1.5.0",
      "model_name": "HTMLModel",
      "state": {
       "_dom_classes": [],
       "_model_module": "@jupyter-widgets/controls",
       "_model_module_version": "1.5.0",
       "_model_name": "HTMLModel",
       "_view_count": null,
       "_view_module": "@jupyter-widgets/controls",
       "_view_module_version": "1.5.0",
       "_view_name": "HTMLView",
       "description": "",
       "description_tooltip": null,
       "layout": "IPY_MODEL_75ac4492380b46ea92900a6df03bd1b6",
       "placeholder": "​",
       "style": "IPY_MODEL_0c30d3f0e3f74deb9189b97cdca2f115",
       "value": " 49.0/49.0 [00:00&lt;00:00, 4.15kB/s]"
      }
     },
     "dfd2e6297da34ec0a610c0cca744fb7a": {
      "model_module": "@jupyter-widgets/controls",
      "model_module_version": "1.5.0",
      "model_name": "HBoxModel",
      "state": {
       "_dom_classes": [],
       "_model_module": "@jupyter-widgets/controls",
       "_model_module_version": "1.5.0",
       "_model_name": "HBoxModel",
       "_view_count": null,
       "_view_module": "@jupyter-widgets/controls",
       "_view_module_version": "1.5.0",
       "_view_name": "HBoxView",
       "box_style": "",
       "children": [
        "IPY_MODEL_e9c3a08dd02c4eeb8e5cb0dee430bd15",
        "IPY_MODEL_9243a4951282437481de720a3697cbf2",
        "IPY_MODEL_e30b2380ec4842618e487f68c34a6abc"
       ],
       "layout": "IPY_MODEL_d5c9f8c680ae4f058802b4bd84f53be4"
      }
     },
     "e30b2380ec4842618e487f68c34a6abc": {
      "model_module": "@jupyter-widgets/controls",
      "model_module_version": "1.5.0",
      "model_name": "HTMLModel",
      "state": {
       "_dom_classes": [],
       "_model_module": "@jupyter-widgets/controls",
       "_model_module_version": "1.5.0",
       "_model_name": "HTMLModel",
       "_view_count": null,
       "_view_module": "@jupyter-widgets/controls",
       "_view_module_version": "1.5.0",
       "_view_name": "HTMLView",
       "description": "",
       "description_tooltip": null,
       "layout": "IPY_MODEL_25dab1d34f1c4a15b8fb98e7705241ee",
       "placeholder": "​",
       "style": "IPY_MODEL_093cbaf07898465ebb861eceaf432257",
       "value": " 112/112 [00:00&lt;00:00, 10.0kB/s]"
      }
     },
     "e3c1e8cc460f4c6d8cd52b28910820f0": {
      "model_module": "@jupyter-widgets/controls",
      "model_module_version": "1.5.0",
      "model_name": "HBoxModel",
      "state": {
       "_dom_classes": [],
       "_model_module": "@jupyter-widgets/controls",
       "_model_module_version": "1.5.0",
       "_model_name": "HBoxModel",
       "_view_count": null,
       "_view_module": "@jupyter-widgets/controls",
       "_view_module_version": "1.5.0",
       "_view_name": "HBoxView",
       "box_style": "",
       "children": [
        "IPY_MODEL_0316dc0e03ee465fa9b68c238bcd78dc",
        "IPY_MODEL_c0f8e850f40f4206b3167b93e99c1be1",
        "IPY_MODEL_95f990c08e0040f1b205fe81af403c6b"
       ],
       "layout": "IPY_MODEL_0a2afa626ab04dd5956a17923be81f6f"
      }
     },
     "e9c3a08dd02c4eeb8e5cb0dee430bd15": {
      "model_module": "@jupyter-widgets/controls",
      "model_module_version": "1.5.0",
      "model_name": "HTMLModel",
      "state": {
       "_dom_classes": [],
       "_model_module": "@jupyter-widgets/controls",
       "_model_module_version": "1.5.0",
       "_model_name": "HTMLModel",
       "_view_count": null,
       "_view_module": "@jupyter-widgets/controls",
       "_view_module_version": "1.5.0",
       "_view_name": "HTMLView",
       "description": "",
       "description_tooltip": null,
       "layout": "IPY_MODEL_c811a2d21d7a4102a2b6b1172c79f497",
       "placeholder": "​",
       "style": "IPY_MODEL_46d3f4053af3446c95063db1c524646b",
       "value": "special_tokens_map.json: 100%"
      }
     },
     "ef038a0d4ffc41bf99bd5db96c570333": {
      "model_module": "@jupyter-widgets/base",
      "model_module_version": "1.2.0",
      "model_name": "LayoutModel",
      "state": {
       "_model_module": "@jupyter-widgets/base",
       "_model_module_version": "1.2.0",
       "_model_name": "LayoutModel",
       "_view_count": null,
       "_view_module": "@jupyter-widgets/base",
       "_view_module_version": "1.2.0",
       "_view_name": "LayoutView",
       "align_content": null,
       "align_items": null,
       "align_self": null,
       "border": null,
       "bottom": null,
       "display": null,
       "flex": null,
       "flex_flow": null,
       "grid_area": null,
       "grid_auto_columns": null,
       "grid_auto_flow": null,
       "grid_auto_rows": null,
       "grid_column": null,
       "grid_gap": null,
       "grid_row": null,
       "grid_template_areas": null,
       "grid_template_columns": null,
       "grid_template_rows": null,
       "height": null,
       "justify_content": null,
       "justify_items": null,
       "left": null,
       "margin": null,
       "max_height": null,
       "max_width": null,
       "min_height": null,
       "min_width": null,
       "object_fit": null,
       "object_position": null,
       "order": null,
       "overflow": null,
       "overflow_x": null,
       "overflow_y": null,
       "padding": null,
       "right": null,
       "top": null,
       "visibility": null,
       "width": null
      }
     },
     "efad9d051a5e4fd4b4a1547e0cbfa29e": {
      "model_module": "@jupyter-widgets/base",
      "model_module_version": "1.2.0",
      "model_name": "LayoutModel",
      "state": {
       "_model_module": "@jupyter-widgets/base",
       "_model_module_version": "1.2.0",
       "_model_name": "LayoutModel",
       "_view_count": null,
       "_view_module": "@jupyter-widgets/base",
       "_view_module_version": "1.2.0",
       "_view_name": "LayoutView",
       "align_content": null,
       "align_items": null,
       "align_self": null,
       "border": null,
       "bottom": null,
       "display": null,
       "flex": null,
       "flex_flow": null,
       "grid_area": null,
       "grid_auto_columns": null,
       "grid_auto_flow": null,
       "grid_auto_rows": null,
       "grid_column": null,
       "grid_gap": null,
       "grid_row": null,
       "grid_template_areas": null,
       "grid_template_columns": null,
       "grid_template_rows": null,
       "height": null,
       "justify_content": null,
       "justify_items": null,
       "left": null,
       "margin": null,
       "max_height": null,
       "max_width": null,
       "min_height": null,
       "min_width": null,
       "object_fit": null,
       "object_position": null,
       "order": null,
       "overflow": null,
       "overflow_x": null,
       "overflow_y": null,
       "padding": null,
       "right": null,
       "top": null,
       "visibility": null,
       "width": null
      }
     },
     "f198780e662f48ccbc2d0150e8237d1e": {
      "model_module": "@jupyter-widgets/controls",
      "model_module_version": "1.5.0",
      "model_name": "FloatProgressModel",
      "state": {
       "_dom_classes": [],
       "_model_module": "@jupyter-widgets/controls",
       "_model_module_version": "1.5.0",
       "_model_name": "FloatProgressModel",
       "_view_count": null,
       "_view_module": "@jupyter-widgets/controls",
       "_view_module_version": "1.5.0",
       "_view_name": "ProgressView",
       "bar_style": "success",
       "description": "",
       "description_tooltip": null,
       "layout": "IPY_MODEL_8eba584bf43c45d0b2bef27250d2e6ab",
       "max": 462.0,
       "min": 0.0,
       "orientation": "horizontal",
       "style": "IPY_MODEL_94676c162013484b8f8281ea64e6d684",
       "value": 462.0
      }
     }
    },
    "version_major": 2,
    "version_minor": 0
   }
  }
 },
 "nbformat": 4,
 "nbformat_minor": 5
}
